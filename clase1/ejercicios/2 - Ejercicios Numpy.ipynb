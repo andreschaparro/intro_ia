{
 "cells": [
  {
   "cell_type": "markdown",
   "metadata": {
    "id": "e_9yLYRpF9BA"
   },
   "source": [
    "# Ejercicios de Numpy\n",
    "Inteligencia Artificial - Facundo A. Lucianna - CEIA - FIUBA\n",
    "\n",
    "A continuación veamos ejercicios de Numpy que deben resolver.\n",
    "\n",
    "Ejercicio 1: Importa a Numpy como np"
   ]
  },
  {
   "cell_type": "code",
   "execution_count": 1,
   "metadata": {
    "id": "sUTE41LjF8ie"
   },
   "outputs": [],
   "source": [
    "import numpy as np"
   ]
  },
  {
   "cell_type": "markdown",
   "metadata": {
    "id": "t1MtiumJGYhy"
   },
   "source": [
    "Ejercicio 2: Crea un array de la siguiente lista"
   ]
  },
  {
   "cell_type": "code",
   "execution_count": 2,
   "metadata": {
    "id": "gSc9alByGXzb"
   },
   "outputs": [
    {
     "name": "stdout",
     "output_type": "stream",
     "text": [
      "[1 2 3 4 5]\n"
     ]
    }
   ],
   "source": [
    "lista = [1, 2, 3, 4, 5]\n",
    "arr = np.array(lista)\n",
    "print(arr)"
   ]
  },
  {
   "cell_type": "markdown",
   "metadata": {
    "id": "f9802oagF8LB"
   },
   "source": [
    "Ejercicio 3: Suma los siguientes dos arrays"
   ]
  },
  {
   "cell_type": "code",
   "execution_count": 3,
   "metadata": {
    "id": "_RV5GqltF5hG"
   },
   "outputs": [],
   "source": [
    "a = np.array([[1,2,3],\n",
    "              [4,5,6]])\n",
    "\n",
    "b = np.array([[10,11,12],\n",
    "              [13,14,15]])\n"
   ]
  },
  {
   "cell_type": "code",
   "execution_count": 4,
   "metadata": {
    "id": "7SyyK7CkGWzk"
   },
   "outputs": [
    {
     "name": "stdout",
     "output_type": "stream",
     "text": [
      "[[11 13 15]\n",
      " [17 19 21]]\n"
     ]
    }
   ],
   "source": [
    "suma = a + b\n",
    "print(suma)"
   ]
  },
  {
   "cell_type": "markdown",
   "metadata": {
    "id": "JMJJmKfuGhen"
   },
   "source": [
    "Ejercicio 4: Multiplica por 3.2 al siguiente array (una matriz)"
   ]
  },
  {
   "cell_type": "code",
   "execution_count": 5,
   "metadata": {
    "id": "dfS84I4FGhLK"
   },
   "outputs": [
    {
     "name": "stdout",
     "output_type": "stream",
     "text": [
      "[[12.8  6.4  6.4]\n",
      " [12.8  3.2  0. ]]\n"
     ]
    }
   ],
   "source": [
    "a = np.array([[4,2,2],\n",
    "              [4,1,0]])\n",
    "producto = a * 3.2\n",
    "print(producto)"
   ]
  },
  {
   "cell_type": "markdown",
   "metadata": {
    "id": "aqee7RrwGyx8"
   },
   "source": [
    "Ejercicio 5: Convierta en una matriz cuadrada al siguiente array unidimensional.\n",
    "\n",
    "1. Usando shape fijate que dimension tiene el array\n",
    "2. Usando .reshape() convierta al array en una matriz cuadrada\n"
   ]
  },
  {
   "cell_type": "code",
   "execution_count": 6,
   "metadata": {
    "id": "o3kCaNBOHHTX"
   },
   "outputs": [
    {
     "name": "stdout",
     "output_type": "stream",
     "text": [
      "Dimension de a: (9,)\n",
      "[[0 1 2]\n",
      " [3 4 5]\n",
      " [6 7 8]]\n"
     ]
    }
   ],
   "source": [
    "a = np.array([x for x in range(9)])\n",
    "print(\"Dimension de a:\", a.shape)\n",
    "matriz = a.reshape(int(np.sqrt(len(a))),int(np.sqrt(len(a))))\n",
    "print(matriz)"
   ]
  },
  {
   "cell_type": "markdown",
   "metadata": {
    "id": "DrapZG0NInQv"
   },
   "source": [
    "Ejercicio 6: Convierta el tipo del siguiente array en entero (int)"
   ]
  },
  {
   "cell_type": "code",
   "execution_count": 7,
   "metadata": {
    "id": "CK9wJUZTIlIR"
   },
   "outputs": [],
   "source": [
    "a = np.array([[2.5, 3.8, 1.5],\n",
    "              [4.7, 2.9, 1.56]])"
   ]
  },
  {
   "cell_type": "code",
   "execution_count": 8,
   "metadata": {
    "id": "dELQaeATI1e4"
   },
   "outputs": [
    {
     "name": "stdout",
     "output_type": "stream",
     "text": [
      "[[2 3 1]\n",
      " [4 2 1]]\n"
     ]
    }
   ],
   "source": [
    "a_int = a.astype(int)\n",
    "print(a_int)"
   ]
  },
  {
   "cell_type": "markdown",
   "metadata": {
    "id": "PT87pa6iIy7-"
   },
   "source": [
    "Ejercicio 7: Crea una matriz de identidad de orden 5 (usando np.eye) y luego transforma el tipo en booleano (bool)"
   ]
  },
  {
   "cell_type": "code",
   "execution_count": 9,
   "metadata": {
    "id": "3Twi1VJ9IyZW"
   },
   "outputs": [
    {
     "name": "stdout",
     "output_type": "stream",
     "text": [
      "[[ True False False False False]\n",
      " [False  True False False False]\n",
      " [False False  True False False]\n",
      " [False False False  True False]\n",
      " [False False False False  True]]\n"
     ]
    }
   ],
   "source": [
    "i = np.eye(5)\n",
    "b = i.astype(bool)\n",
    "print(b)"
   ]
  },
  {
   "cell_type": "markdown",
   "metadata": {
    "id": "F6pxK5t9JF5v"
   },
   "source": [
    "Ejercicio 8: Cocatena de forma horizontal (una al costado de la otra) los siguientes arrays"
   ]
  },
  {
   "cell_type": "code",
   "execution_count": 10,
   "metadata": {
    "id": "1v1Bx830JFrc"
   },
   "outputs": [],
   "source": [
    "a1 = np.array([[1,2,3],\n",
    "               [4,5,6]])\n",
    "\n",
    "a2 = np.array([[7,8,9],\n",
    "               [10,11,12]])"
   ]
  },
  {
   "cell_type": "code",
   "execution_count": 11,
   "metadata": {
    "id": "n9rFcZBoJcP2"
   },
   "outputs": [
    {
     "name": "stdout",
     "output_type": "stream",
     "text": [
      "[[ 1  2  3  7  8  9]\n",
      " [ 4  5  6 10 11 12]]\n"
     ]
    }
   ],
   "source": [
    "hor = np.concatenate([a1,a2], axis=1)\n",
    "print(hor)"
   ]
  },
  {
   "cell_type": "markdown",
   "metadata": {
    "id": "cYAcl2ICJQok"
   },
   "source": [
    "Ejercicio 9: Cocatena de forma vertical los mismos array"
   ]
  },
  {
   "cell_type": "code",
   "execution_count": 12,
   "metadata": {
    "id": "XQjHizMeJZbi"
   },
   "outputs": [
    {
     "name": "stdout",
     "output_type": "stream",
     "text": [
      "[[ 1  2  3]\n",
      " [ 4  5  6]\n",
      " [ 7  8  9]\n",
      " [10 11 12]]\n"
     ]
    }
   ],
   "source": [
    "vert = np.concatenate([a1,a2], axis=0)\n",
    "print(vert)"
   ]
  },
  {
   "cell_type": "markdown",
   "metadata": {
    "id": "JC2aj9LPJc4P"
   },
   "source": [
    "Ejercicio 9: Crea un array unidimensional que tenga los numeros de 0 a 100 (incluido) con saltos de 2."
   ]
  },
  {
   "cell_type": "code",
   "execution_count": 13,
   "metadata": {
    "id": "-WnpmxL6JoR0"
   },
   "outputs": [
    {
     "name": "stdout",
     "output_type": "stream",
     "text": [
      "[  0   2   4   6   8  10  12  14  16  18  20  22  24  26  28  30  32  34\n",
      "  36  38  40  42  44  46  48  50  52  54  56  58  60  62  64  66  68  70\n",
      "  72  74  76  78  80  82  84  86  88  90  92  94  96  98 100]\n"
     ]
    }
   ],
   "source": [
    "a = np.arange(0, (100 + 1), 2)\n",
    "print(a)"
   ]
  },
  {
   "cell_type": "markdown",
   "metadata": {
    "id": "iK_xk2yEJo_n"
   },
   "source": [
    "Ejercicio 10: Usando np.where() compara en que elementos el array **a** es mayor al array **b**"
   ]
  },
  {
   "cell_type": "code",
   "execution_count": 14,
   "metadata": {
    "id": "c8BRhng_Jpeo"
   },
   "outputs": [],
   "source": [
    "a = np.array([1,2,3,4,6])\n",
    "\n",
    "b = np.array([1,3,2,4,5])"
   ]
  },
  {
   "cell_type": "code",
   "execution_count": 15,
   "metadata": {
    "id": "0sniSYGIJ6Aj"
   },
   "outputs": [
    {
     "name": "stdout",
     "output_type": "stream",
     "text": [
      "(array([2, 4], dtype=int64),)\n",
      "[3 6]\n"
     ]
    }
   ],
   "source": [
    "filtro = np.where(a > b)\n",
    "print(filtro)\n",
    "print(a[filtro])"
   ]
  },
  {
   "cell_type": "markdown",
   "metadata": {
    "id": "4jcNe8u1J7SY"
   },
   "source": [
    "Ejercicio 11: Genera en un array una secuencia separada de forma equidistante de 5 numeros que van de 0 a 100 (inclusive ambos)"
   ]
  },
  {
   "cell_type": "code",
   "execution_count": 16,
   "metadata": {
    "id": "yhfr6KKqKIL1"
   },
   "outputs": [
    {
     "name": "stdout",
     "output_type": "stream",
     "text": [
      "[  0.  25.  50.  75. 100.]\n"
     ]
    }
   ],
   "source": [
    "equidist_5 = np.linspace(0, 100, 5)\n",
    "print(equidist_5)"
   ]
  },
  {
   "cell_type": "markdown",
   "metadata": {
    "id": "sP6tN0hpKH4g"
   },
   "source": [
    "Ejercicio 12: Crea una matriz de 2x3 con todos los valores igual a 23 (Hint: podes usar [np.full](https://numpy.org/doc/stable/reference/generated/numpy.full.html) o [np.eye](https://numpy.org/devdocs/reference/generated/numpy.eye.html))\n"
   ]
  },
  {
   "cell_type": "code",
   "execution_count": 17,
   "metadata": {
    "id": "3-7aVWoMKWDI"
   },
   "outputs": [
    {
     "name": "stdout",
     "output_type": "stream",
     "text": [
      "[[23 23 23]\n",
      " [23 23 23]]\n"
     ]
    }
   ],
   "source": [
    "a = np.full((2,3),23)\n",
    "print(a)"
   ]
  },
  {
   "cell_type": "markdown",
   "metadata": {
    "id": "jTA6GgK6KWxJ"
   },
   "source": [
    "Ejercicio 13: Crea un array de 8x2 numeros aleatorios que sigan la distribucion normal (Hint: [np.random.normal](https://numpy.org/doc/stable/reference/random/generated/numpy.random.normal.html))"
   ]
  },
  {
   "cell_type": "code",
   "execution_count": 18,
   "metadata": {
    "id": "NrBM7CLoKixi"
   },
   "outputs": [
    {
     "name": "stdout",
     "output_type": "stream",
     "text": [
      "[[ 0.88684356 -0.90999067]\n",
      " [ 1.64851243 -0.01738413]\n",
      " [ 1.03606379 -0.29584957]\n",
      " [-0.26377327 -0.25571197]\n",
      " [-1.75326733 -1.05738884]\n",
      " [ 0.83064857 -0.6263717 ]\n",
      " [-0.56055755  0.63956361]\n",
      " [-0.20312231 -0.0084568 ]]\n"
     ]
    }
   ],
   "source": [
    "aleatorio = np.random.normal(size=(8, 2))\n",
    "print(aleatorio)"
   ]
  },
  {
   "cell_type": "markdown",
   "metadata": {
    "id": "b99SuyreKjtb"
   },
   "source": [
    "Ejercicio 14: Dadas las siguientes matrices, multipliquelas como matrices. Luego multipliquelas como si fueran arrays"
   ]
  },
  {
   "cell_type": "code",
   "execution_count": 19,
   "metadata": {
    "id": "YKuJiQ4nKocj"
   },
   "outputs": [],
   "source": [
    "a = np.array([[1,2,3],\n",
    "              [4,5,6],\n",
    "              [7,8,9]])\n",
    "\n",
    "b = np.array([[2,3,4],\n",
    "              [5,6,7],\n",
    "              [8,9,10]])"
   ]
  },
  {
   "cell_type": "code",
   "execution_count": 20,
   "metadata": {
    "id": "NtcDBE9kKqRC"
   },
   "outputs": [
    {
     "name": "stdout",
     "output_type": "stream",
     "text": [
      "[[ 36  42  48]\n",
      " [ 81  96 111]\n",
      " [126 150 174]]\n",
      "[[ 2  6 12]\n",
      " [20 30 42]\n",
      " [56 72 90]]\n"
     ]
    }
   ],
   "source": [
    "m = np.matmul(a,b)\n",
    "print(m) # u00 = 1*2 + 2*5 + 3*8 = 36\n",
    "v = a * b\n",
    "print(v) # u00 = 1*2"
   ]
  },
  {
   "cell_type": "markdown",
   "metadata": {
    "id": "ZES6IGHeK2TF"
   },
   "source": [
    "Ejercicio 15: Dado el siguiente array, ordenelo de forma ascendente (Hint: [np.argsort](https://numpy.org/doc/stable/reference/generated/numpy.argsort.html)). Luego de forma descendente."
   ]
  },
  {
   "cell_type": "code",
   "execution_count": 21,
   "metadata": {
    "id": "ndyTumC9KwJJ"
   },
   "outputs": [],
   "source": [
    " a = np.array([1, 0, 82, 2, 939, 91, 1101, 199, 292, 2, 923, 387, 38, 299])"
   ]
  },
  {
   "cell_type": "code",
   "execution_count": 22,
   "metadata": {
    "id": "HzK_z4riLnsd"
   },
   "outputs": [
    {
     "name": "stdout",
     "output_type": "stream",
     "text": [
      "[   0    1    2    2   38   82   91  199  292  299  387  923  939 1101]\n"
     ]
    }
   ],
   "source": [
    "ind_asc = np.argsort(a)\n",
    "print(a[ind_asc])"
   ]
  },
  {
   "cell_type": "code",
   "execution_count": 23,
   "metadata": {
    "id": "uZyq05uULoRf"
   },
   "outputs": [
    {
     "name": "stdout",
     "output_type": "stream",
     "text": [
      "[1101  939  923  387  299  292  199   91   82   38    2    2    1    0]\n"
     ]
    }
   ],
   "source": [
    "ind_des = np.argsort(-a)\n",
    "print(a[ind_des])"
   ]
  },
  {
   "cell_type": "markdown",
   "metadata": {
    "id": "PwVvydF6SCqQ"
   },
   "source": [
    "----"
   ]
  },
  {
   "cell_type": "markdown",
   "metadata": {
    "id": "Zbf2yCCYLokv"
   },
   "source": [
    "Ejercicio 16: Lee el csv venta_libros en un array. Luego separa las columnas en 3 arrays diferentes, el primero llamado year, el segundo month, y el tercero books"
   ]
  },
  {
   "cell_type": "code",
   "execution_count": 24,
   "metadata": {
    "id": "HGpomf8RNmD9"
   },
   "outputs": [
    {
     "name": "stdout",
     "output_type": "stream",
     "text": [
      "[[2019    1  106]\n",
      " [2019    2  400]\n",
      " [2019    3  339]\n",
      " [2019    4  389]\n",
      " [2019    5  141]\n",
      " [2019    6  332]\n",
      " [2019    7  386]\n",
      " [2019    8  307]\n",
      " [2019    9  304]\n",
      " [2019   10  167]\n",
      " [2019   11  133]\n",
      " [2019   12  151]\n",
      " [2020    1  276]\n",
      " [2020    2   57]\n",
      " [2020    3  125]\n",
      " [2020    4   27]\n",
      " [2020    5  222]\n",
      " [2020    6  363]\n",
      " [2020    7   26]\n",
      " [2020    8  162]\n",
      " [2020    9  383]\n",
      " [2020   10  383]\n",
      " [2020   11  179]\n",
      " [2020   12  386]\n",
      " [2021    1  432]\n",
      " [2021    2  482]\n",
      " [2021    3  202]\n",
      " [2021    4  115]\n",
      " [2021    5  420]\n",
      " [2021    6   87]\n",
      " [2021    7   36]\n",
      " [2021    8  489]\n",
      " [2021    9  440]\n",
      " [2021   10   83]\n",
      " [2021   11  258]\n",
      " [2021   12  281]\n",
      " [2022    1  393]\n",
      " [2022    2  227]\n",
      " [2022    3  236]\n",
      " [2022    4  453]\n",
      " [2022    5  359]\n",
      " [2022    6  252]\n",
      " [2022    7   57]\n",
      " [2022    8  473]\n",
      " [2022    9  331]\n",
      " [2022   10  349]\n",
      " [2022   11  212]\n",
      " [2022   12  131]]\n"
     ]
    }
   ],
   "source": [
    "data = np.loadtxt(\"./datasets/venta_libros.csv\", delimiter=\",\", dtype=int, encoding='utf-8-sig')\n",
    "print(data)"
   ]
  },
  {
   "cell_type": "code",
   "execution_count": 25,
   "metadata": {
    "id": "zGKqLifdNnF1"
   },
   "outputs": [
    {
     "name": "stdout",
     "output_type": "stream",
     "text": [
      "Year: [2019 2019 2019 2019 2019 2019 2019 2019 2019 2019 2019 2019 2020 2020\n",
      " 2020 2020 2020 2020 2020 2020 2020 2020 2020 2020 2021 2021 2021 2021\n",
      " 2021 2021 2021 2021 2021 2021 2021 2021 2022 2022 2022 2022 2022 2022\n",
      " 2022 2022 2022 2022 2022 2022]\n",
      "Month: [ 1  2  3  4  5  6  7  8  9 10 11 12  1  2  3  4  5  6  7  8  9 10 11 12\n",
      "  1  2  3  4  5  6  7  8  9 10 11 12  1  2  3  4  5  6  7  8  9 10 11 12]\n",
      "Books: [106 400 339 389 141 332 386 307 304 167 133 151 276  57 125  27 222 363\n",
      "  26 162 383 383 179 386 432 482 202 115 420  87  36 489 440  83 258 281\n",
      " 393 227 236 453 359 252  57 473 331 349 212 131]\n"
     ]
    }
   ],
   "source": [
    "year = data[:, 0]\n",
    "month = data[:, 1]\n",
    "books = data[:, 2]\n",
    "print(\"Year:\", year)\n",
    "print(\"Month:\", month)\n",
    "print(\"Books:\", books)"
   ]
  },
  {
   "cell_type": "markdown",
   "metadata": {
    "id": "a5JHu4CbNpCK"
   },
   "source": [
    "Usando np.max() obtenga el valor de ventas de libros más alto. Luego, busque a que mes y años corresponde"
   ]
  },
  {
   "cell_type": "code",
   "execution_count": 26,
   "metadata": {
    "id": "WkQ5CFe5N417"
   },
   "outputs": [
    {
     "name": "stdout",
     "output_type": "stream",
     "text": [
      "Valor de ventas de libros mas alto: 489\n"
     ]
    }
   ],
   "source": [
    "books_max = np.max(books)\n",
    "print(\"Valor de ventas de libros mas alto:\", books_max)"
   ]
  },
  {
   "cell_type": "code",
   "execution_count": 27,
   "metadata": {
    "id": "4ggEwc1hN6Et"
   },
   "outputs": [
    {
     "name": "stdout",
     "output_type": "stream",
     "text": [
      "Corresponde al año: 2021\n",
      "Corresponde al mes: 8\n"
     ]
    }
   ],
   "source": [
    "ind_books_max = np.argmax(books)\n",
    "year_books_max = year[ind_books_max]\n",
    "month_books_max = month[ind_books_max]\n",
    "print(\"Corresponde al año:\", year_books_max)\n",
    "print(\"Corresponde al mes:\", month_books_max)"
   ]
  },
  {
   "cell_type": "markdown",
   "metadata": {
    "id": "0d1ViVGTRVAD"
   },
   "source": [
    "Calcula las ventas totales, las ventas promedio, la mediana de las ventas y el desvio estandar (Hint: [np.sum](https://numpy.org/doc/stable/reference/generated/numpy.sum.html), [np.mean](https://numpy.org/doc/stable/reference/generated/numpy.mean.html), [np.median](https://numpy.org/doc/stable/reference/generated/numpy.median.html), [np.std](https://numpy.org/doc/stable/reference/generated/numpy.std.html))"
   ]
  },
  {
   "cell_type": "code",
   "execution_count": 28,
   "metadata": {
    "id": "UpqqRc5zRRZr"
   },
   "outputs": [
    {
     "name": "stdout",
     "output_type": "stream",
     "text": [
      "Ventas totales: 12542\n",
      "Ventas promedio: 261.2916666666667\n",
      "Mediana de las ventas: 267.0\n",
      "Desvio estandar: 136.60770450657444\n"
     ]
    }
   ],
   "source": [
    "books_total = np.sum(books)\n",
    "books_prom = np.mean(books)\n",
    "books_median = np.median(books)\n",
    "books_std = np.std(books)\n",
    "print(\"Ventas totales:\", books_total)\n",
    "print(\"Ventas promedio:\", books_prom)\n",
    "print(\"Mediana de las ventas:\", books_median)\n",
    "print(\"Desvio estandar:\", books_std)"
   ]
  },
  {
   "cell_type": "code",
   "execution_count": null,
   "metadata": {
    "id": "IO65VuSoN5yp"
   },
   "outputs": [],
   "source": []
  }
 ],
 "metadata": {
  "colab": {
   "authorship_tag": "ABX9TyOy12cJEqDJrsnQOoRjNNSW",
   "provenance": []
  },
  "kernelspec": {
   "display_name": "Python 3 (ipykernel)",
   "language": "python",
   "name": "python3"
  },
  "language_info": {
   "codemirror_mode": {
    "name": "ipython",
    "version": 3
   },
   "file_extension": ".py",
   "mimetype": "text/x-python",
   "name": "python",
   "nbconvert_exporter": "python",
   "pygments_lexer": "ipython3",
   "version": "3.10.11"
  }
 },
 "nbformat": 4,
 "nbformat_minor": 4
}
