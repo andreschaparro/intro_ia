{
 "cells": [
  {
   "cell_type": "markdown",
   "metadata": {},
   "source": [
    "# Ejercicios de Python\n",
    "Inteligencia Artificial - Facundo A. Lucianna - CEIA - FIUBA\n",
    "\n",
    "A continuación veamos ejercicios de Python que deben resolver.\n",
    "\n",
    "**Ejercicio 1**: Imprima el texto `”Hola, estoy aprendiendo Python”`. Agregue un comentario de una sola línea antes de la impresión de texto que explique qué hace la función `print()`."
   ]
  },
  {
   "cell_type": "code",
   "execution_count": 1,
   "metadata": {},
   "outputs": [
    {
     "name": "stdout",
     "output_type": "stream",
     "text": [
      "Hola, estoy aprendiendo Python\n"
     ]
    }
   ],
   "source": [
    "# Imprime el texto entre ()\n",
    "print(\"Hola, estoy aprendiendo Python\")"
   ]
  },
  {
   "cell_type": "markdown",
   "metadata": {},
   "source": [
    "**Ejercicio 2**: Imprima el siguiente texto respetando el formato (use triple \"\"\"):\n",
    "\n",
    "```\n",
    "Sobre el puente de Avignon\n",
    "      Todos bailan, todos bailan\n",
    "Sobre el puente de Avignon\n",
    "      Todos bailan y yo también\n",
    "```"
   ]
  },
  {
   "cell_type": "code",
   "execution_count": 2,
   "metadata": {},
   "outputs": [
    {
     "name": "stdout",
     "output_type": "stream",
     "text": [
      "\n",
      "Sobre el puente de Avignon\n",
      "    Todos bailan, todos bailan\n",
      "Sobre el puente de Avignon\n",
      "    Todos bailan y yo también\n",
      "\n"
     ]
    }
   ],
   "source": [
    "avignon_song = \"\"\"\n",
    "Sobre el puente de Avignon\n",
    "    Todos bailan, todos bailan\n",
    "Sobre el puente de Avignon\n",
    "    Todos bailan y yo también\n",
    "\"\"\"\n",
    "\n",
    "print(avignon_song)"
   ]
  },
  {
   "cell_type": "markdown",
   "metadata": {},
   "source": [
    "**Ejercicio 3**: Crea las siguiente variables:\n",
    "\n",
    "```\n",
    "var1 = 1\n",
    "var2 = 3.14\n",
    "var3 = −8\n",
    "var4 = \"CEIoT\"\n",
    "```\n",
    "\n",
    "1. Realice las siguientes operaciones e imprímalas. Comente en la notebook qué operaciones se hace en cada caso:\n",
    "    1. `var1 + var2`\n",
    "    2. `var1 − var2`\n",
    "    3. `var3 / 3`\n",
    "    4. `var3 // 3`\n",
    "    5. `var3 % 3`\n",
    "    6. `var2 ** 2`\n",
    "    7. `var3 ∗ var2`\n",
    "    8. `var4 + var4`\n",
    "    9. `var4 * ((-1) * var3)`\n",
    "    10. `var4 / var2`\n",
    "2. ¿Todas las operaciones aquí listadas pueden realizar? Si la respuesta es no, cual no se puede realizar? ¿Qué error da Python? ¿Qué significa ese error?"
   ]
  },
  {
   "cell_type": "code",
   "execution_count": 3,
   "metadata": {},
   "outputs": [
    {
     "name": "stdout",
     "output_type": "stream",
     "text": [
      "4.140000000000001\n",
      "-2.14\n",
      "-2.6666666666666665\n",
      "-3\n",
      "1\n",
      "9.8596\n",
      "-25.12\n",
      "CEIoTCEIoT\n",
      "CEIoTCEIoTCEIoTCEIoTCEIoTCEIoTCEIoTCEIoT\n"
     ]
    }
   ],
   "source": [
    "var1 = 1\n",
    "var2 = 3.14\n",
    "var3 = -8\n",
    "var4 = \"CEIoT\"\n",
    "\n",
    "oper_a = var1 + var2\n",
    "oper_b = var1 - var2\n",
    "oper_c = var3 / 3\n",
    "oper_d = var3 // 3\n",
    "oper_e = var3 % 3\n",
    "oper_f = var2 ** 2\n",
    "oper_g = var3 * var2\n",
    "oper_h = var4 + var4\n",
    "oper_i = var4 * ((-1) * var3)\n",
    "#oper_j = var4 / var2 unsupported operand type(s) for /: 'str' and 'float'\n",
    "\n",
    "print(oper_a)\n",
    "print(oper_b)\n",
    "print(oper_c)\n",
    "print(oper_d)\n",
    "print(oper_e)\n",
    "print(oper_f)\n",
    "print(oper_g)\n",
    "print(oper_h)\n",
    "print(oper_i)\n",
    "#print(oper_j)"
   ]
  },
  {
   "cell_type": "markdown",
   "metadata": {},
   "source": [
    "**Ejercicio 4**: Cree la variable `pi_string = \"3.1415926\"`\n",
    "1.  Conviertala en `float` (use la función `float()`) y guarda el resultado en la variable `pi_float`.\n",
    "2.  Imprima la variable `pi_float` con solo 3 decimales"
   ]
  },
  {
   "cell_type": "code",
   "execution_count": 4,
   "metadata": {},
   "outputs": [
    {
     "name": "stdout",
     "output_type": "stream",
     "text": [
      "3.142\n",
      "3.142\n",
      "3.142\n",
      "3.142\n"
     ]
    }
   ],
   "source": [
    "pi_string = \"3.1415926\"\n",
    "pi_float = float(pi_string)\n",
    "print(\"%.3f\" % (pi_float)) # Metodo 1\n",
    "print(\"{:.3f}\".format(pi_float)) # Metodo 2 posicional\n",
    "print(\"{primero:.3f}\".format(primero=pi_float)) # Metodo 2 argumental\n",
    "print(f'{pi_float:.3f}') # Metodo 3"
   ]
  },
  {
   "cell_type": "markdown",
   "metadata": {},
   "source": [
    "**Ejercicio 5**: Crea una variable con el string: `\"Me gusta la comida mexicana\"`.\n",
    "1. Crea una variable que se llame `mexican_food` que sea booleana.\n",
    "2. Mediante control de flujo, imprima condicionalmente la variable string si la variable del apartado 1 es verdadera."
   ]
  },
  {
   "cell_type": "code",
   "execution_count": 5,
   "metadata": {},
   "outputs": [
    {
     "name": "stdout",
     "output_type": "stream",
     "text": [
      "Me gusta la comida mexicana\n"
     ]
    }
   ],
   "source": [
    "msg = \"Me gusta la comida mexicana\"\n",
    "mexican_food = True\n",
    "if mexican_food is True:\n",
    "    print(msg)"
   ]
  },
  {
   "cell_type": "markdown",
   "metadata": {},
   "source": [
    "**Ejercicio 6**: Imprima la fecha y hora actual (utilice la librería [datetime](https://www.w3schools.com/python/python_datetime.asp))"
   ]
  },
  {
   "cell_type": "code",
   "execution_count": 6,
   "metadata": {},
   "outputs": [
    {
     "name": "stdout",
     "output_type": "stream",
     "text": [
      "Fecha 20/05/05\n",
      "Hora 19:14:24\n"
     ]
    }
   ],
   "source": [
    "import datetime as dt\n",
    "\n",
    "now = dt.datetime.now()\n",
    "day = now.strftime(\"%d\")\n",
    "month = now.strftime(\"%m\")\n",
    "year = now.strftime(\"%Y\")\n",
    "hour = now.strftime(\"%H\")\n",
    "minute = now.strftime(\"%M\")\n",
    "second = now.strftime(\"%S\")\n",
    "\n",
    "print(f'Fecha {day}/{month}/{month}')\n",
    "print(f'Hora {hour}:{minute}:{second}')"
   ]
  },
  {
   "cell_type": "markdown",
   "metadata": {},
   "source": [
    "**Ejercicio 7**: Imprima el calendario del mes de Marzo de 2023 (utilice la librería [calendar](https://www.geeksforgeeks.org/python-calendar-module/))"
   ]
  },
  {
   "cell_type": "code",
   "execution_count": 7,
   "metadata": {},
   "outputs": [
    {
     "name": "stdout",
     "output_type": "stream",
     "text": [
      "     March 2023\n",
      "Mo Tu We Th Fr Sa Su\n",
      "       1  2  3  4  5\n",
      " 6  7  8  9 10 11 12\n",
      "13 14 15 16 17 18 19\n",
      "20 21 22 23 24 25 26\n",
      "27 28 29 30 31\n",
      "\n"
     ]
    }
   ],
   "source": [
    "import calendar\n",
    "\n",
    "print(calendar.month(int(\"2023\"), int(\"03\")))"
   ]
  },
  {
   "cell_type": "markdown",
   "metadata": {},
   "source": [
    "**Ejercicio 8**: Usando Python resuelva este ejercicio:\n",
    "```\n",
    "Supongamos que tenemos U$D 100, el cual se puede invertir y retornar el 10% extra cada año. Es decir, después del primer año tendríamos 100 * 1.1 = 110, luego de dos años 100 * 1.1 * 1.1 = 121.\n",
    "\n",
    "Calcule la cantidad de plata que uno tendría luego de 7 años, y después de 23 años.\n",
    "```"
   ]
  },
  {
   "cell_type": "code",
   "execution_count": 8,
   "metadata": {},
   "outputs": [
    {
     "name": "stdout",
     "output_type": "stream",
     "text": [
      "A los 7 años tendria U$D 194.87\n",
      "A los 23 años tendria U$D 895.43\n"
     ]
    }
   ],
   "source": [
    "initial_money = 100\n",
    "after_7_years = initial_money * (1.1 ** 7)\n",
    "print(f'A los 7 años tendria U$D {after_7_years:.2f}')\n",
    "after_23_years = initial_money * (1.1 ** 23)\n",
    "print(f'A los 23 años tendria U$D {after_23_years:.2f}')"
   ]
  },
  {
   "cell_type": "markdown",
   "metadata": {},
   "source": [
    "**Ejercicio 9**: Introduzca el código del punto anterior en una función. Que los argumentos sean la inversión inicial, el interés y la cantidad de años. Obtenga diferentes salidas combinando estas variables."
   ]
  },
  {
   "cell_type": "code",
   "execution_count": 9,
   "metadata": {},
   "outputs": [
    {
     "name": "stdout",
     "output_type": "stream",
     "text": [
      "A los 7 años tendria U$D 194.87\n",
      "A los 23 años tendria U$D 895.43\n"
     ]
    }
   ],
   "source": [
    "def calc_dinero(inversion, interes, años):\n",
    "    return inversion * (interes ** años)\n",
    "\n",
    "resultado = calc_dinero(100,1.1,7)\n",
    "print(f'A los 7 años tendria U$D {resultado:.2f}')\n",
    "resultado = calc_dinero(100,1.1,23)\n",
    "print(f'A los 23 años tendria U$D {resultado:.2f}')"
   ]
  },
  {
   "cell_type": "markdown",
   "metadata": {},
   "source": [
    "**Ejercicio 10**: Escriba una función que teste si un número está entre 100 y 2000."
   ]
  },
  {
   "cell_type": "code",
   "execution_count": 10,
   "metadata": {},
   "outputs": [
    {
     "name": "stdout",
     "output_type": "stream",
     "text": [
      "El numero 1 no esta entre 100 y 2000\n",
      "El numero 1000 esta entre 100 y 2000\n",
      "El numero 3000 no esta entre 100 y 2000\n"
     ]
    }
   ],
   "source": [
    "def test_num(num, min= 100,max=2000):\n",
    "    if min <= num <= max:\n",
    "        print(f'El numero {num} esta entre {min} y {max}')\n",
    "    else:\n",
    "        print(f'El numero {num} no esta entre {min} y {max}')\n",
    "\n",
    "test_num(1)\n",
    "test_num(1000)\n",
    "test_num(3000)"
   ]
  },
  {
   "cell_type": "markdown",
   "metadata": {},
   "source": [
    "**Ejercicio 11**: Escriba una función que verifique si dado un número natural, si es capicúa (por ejemplo 12321 o 90809)."
   ]
  },
  {
   "cell_type": "code",
   "execution_count": 11,
   "metadata": {},
   "outputs": [
    {
     "name": "stdout",
     "output_type": "stream",
     "text": [
      "El numero 12321 es capicua\n",
      "El numero 90809 es capicua\n",
      "El numero 123456 no es capicua\n"
     ]
    }
   ],
   "source": [
    "def test_capicua(num):\n",
    "    str_num = str(num)\n",
    "    str_inv = str_num[::-1]\n",
    "    if str_num == str_inv:\n",
    "        print(f'El numero {num} es capicua')\n",
    "    else:\n",
    "        print(f'El numero {num} no es capicua')\n",
    "\n",
    "test_capicua(12321)\n",
    "test_capicua(90809)\n",
    "test_capicua(123456)"
   ]
  },
  {
   "cell_type": "markdown",
   "metadata": {},
   "source": [
    "**Ejercicio 12**: \n",
    "1. Escriba una función que dado un string reemplaza todos los caracteres con `\"*\"` menos los últimos 5 caracteres.\n",
    "2. Modifique la función para que un argumento opcional se pueda cambiar cuantos caracteres se quieren dejar sin `\"*\"`."
   ]
  },
  {
   "cell_type": "code",
   "execution_count": 12,
   "metadata": {},
   "outputs": [
    {
     "name": "stdout",
     "output_type": "stream",
     "text": [
      "*ola\n",
      "***a Mundo\n"
     ]
    }
   ],
   "source": [
    "def reemplazar_str(cadena, n):\n",
    "    if len(cadena) <= n:\n",
    "        return cadena\n",
    "    nueva_cadena = '*' * (len(cadena) - n)\n",
    "    nueva_cadena += cadena[-n::]\n",
    "    return nueva_cadena\n",
    "\n",
    "print(reemplazar_str(\"Hola\", 3))\n",
    "print(reemplazar_str(\"Hola Mundo\", 7))"
   ]
  },
  {
   "cell_type": "markdown",
   "metadata": {},
   "source": [
    "**Ejercicio 13**: \n",
    "1. Escriba una función que dado el radio (número flotante) como entrada devuelva el diámetro, circunferencia y área de un círculo.\n",
    "2. Agregue un argumento opcional dimensión que por defecto es 2, si es 3 retorna el diámetro y el volumen de una esfera. Cualquier otro valor, retorne\n",
    "-1."
   ]
  },
  {
   "cell_type": "code",
   "execution_count": 13,
   "metadata": {},
   "outputs": [
    {
     "name": "stdout",
     "output_type": "stream",
     "text": [
      "Un circulo de radio: 5.50 tiene: un diametro de 11.00, una circunsferencia de 34.56, y un area de 95.03\n",
      "Una esfera de radio: 5.50 tiene: un diametro de 11.00, y un volumen de 696.91\n"
     ]
    }
   ],
   "source": [
    "import math\n",
    "\n",
    "def calc_dimensiones(radio, dimensiones=2):\n",
    "    if dimensiones == 2:\n",
    "        diametro = 2 * radio\n",
    "        circunsferencia = 2 * math.pi * radio\n",
    "        area = math.pi * (radio ** 2)\n",
    "        return diametro, circunsferencia, area\n",
    "    elif dimensiones == 3:\n",
    "        diametro = 2 * radio\n",
    "        volumen = (4 / 3) * math.pi * (radio ** 3)\n",
    "        return diametro, volumen\n",
    "    else:\n",
    "        return -1\n",
    "\n",
    "radio = 5.5\n",
    "diametro, circunsferencia, area = calc_dimensiones(radio)\n",
    "print(f'Un circulo de radio: {radio:.2f} tiene: un diametro de {diametro:.2f}, una circunsferencia de {circunsferencia:.2f}, y un area de {area:.2f}')\n",
    "diametro, volumen = calc_dimensiones(radio, 3)\n",
    "print(f'Una esfera de radio: {radio:.2f} tiene: un diametro de {diametro:.2f}, y un volumen de {volumen:.2f}')"
   ]
  },
  {
   "cell_type": "markdown",
   "metadata": {},
   "source": [
    "**Ejercicio 14**: Genere una lista formada por los números naturales desde el 1 hasta el 9 incluidos llamada `mi_lista` usado list comprehension.\n",
    "1. Imprima el primer, el quinto y último elemento, y además la cantidad de elementos que tiene la lista.\n",
    "2. Cree una lista nueva que incluya solamente desde el segundo al sexto elemento.\n",
    "3. Quite el último elemento de la lista `mi_lista` y guárdelo en una variable llamada `ultimo_elemento`.\n",
    "4. Quite el tercer elemento de la lista `mi_lista`.\n",
    "5. Agregue el número 4 al final de `mi_lista`.\n",
    "6. Agregue el string `\"Soy un string\"` en la tercera posición de `mi_lista`."
   ]
  },
  {
   "cell_type": "code",
   "execution_count": 14,
   "metadata": {},
   "outputs": [
    {
     "name": "stdout",
     "output_type": "stream",
     "text": [
      "Primer elemento: 1\n",
      "Quinto elemento: 5\n",
      "Ultimo elemento: 9\n",
      "Total de elementos: 9\n",
      "---------------------------------------------------------------------\n",
      "[2, 3, 4, 5, 6]\n",
      "---------------------------------------------------------------------\n",
      "[1, 2, 3, 4, 5, 6, 7, 8]\n",
      "---------------------------------------------------------------------\n",
      "[1, 2, 4, 5, 6, 7, 8]\n",
      "---------------------------------------------------------------------\n",
      "[1, 2, 4, 5, 6, 7, 8, 4]\n",
      "---------------------------------------------------------------------\n",
      "[1, 2, 'Soy un string', 4, 5, 6, 7, 8, 4]\n"
     ]
    }
   ],
   "source": [
    "mi_lista = [x for x in range(1,10)]\n",
    "print(f'Primer elemento: {mi_lista[0]}')\n",
    "print(f'Quinto elemento: {mi_lista[4]}')\n",
    "print(f'Ultimo elemento: {mi_lista[-1]}')\n",
    "print(f'Total de elementos: {len(mi_lista)}')\n",
    "print(\"---\"* 23)\n",
    "nueva_lista = mi_lista[1:6]\n",
    "print(nueva_lista)\n",
    "print(\"---\"* 23)\n",
    "ultimo_elemento = mi_lista[-1]\n",
    "mi_lista.pop()\n",
    "print(mi_lista)\n",
    "print(\"---\"* 23)\n",
    "mi_lista.pop(2)\n",
    "print(mi_lista)\n",
    "print(\"---\"* 23)\n",
    "mi_lista.append(4)\n",
    "print(mi_lista)\n",
    "print(\"---\"* 23)\n",
    "mi_lista.insert(2 , \"Soy un string\")\n",
    "print(mi_lista)"
   ]
  },
  {
   "cell_type": "markdown",
   "metadata": {},
   "source": [
    "**Ejercicio 15**: Escriba una función que devuelva una tupla de todos los números impares dado un valor de inicio y final. Siendo el de inicio opcional, con valor por defecto igual a 1."
   ]
  },
  {
   "cell_type": "code",
   "execution_count": 15,
   "metadata": {},
   "outputs": [
    {
     "name": "stdout",
     "output_type": "stream",
     "text": [
      "(1, 3, 5, 7, 9, 11)\n"
     ]
    }
   ],
   "source": [
    "def gen_impares(final, inicio=1):\n",
    "    impares = tuple(num for num in range(inicio , (final+1)) if (num % 2) != 0)\n",
    "    return impares\n",
    "\n",
    "final = 11\n",
    "impares = gen_impares(final)\n",
    "print(impares)"
   ]
  },
  {
   "cell_type": "markdown",
   "metadata": {},
   "source": [
    "**Ejercicio 16**: Escriba una función que realice la suma de dos vectores. Para \"armar\" a los vectores vamos a usar listas de igual tamaño. La función debe devolver el vector suma en forma de lista."
   ]
  },
  {
   "cell_type": "code",
   "execution_count": 16,
   "metadata": {},
   "outputs": [
    {
     "name": "stdout",
     "output_type": "stream",
     "text": [
      "Vector 1: [1, 2, 3]\n",
      "Vector 2: [4, 5, 6]\n",
      "Suma vectorial: [5, 7, 9]\n"
     ]
    }
   ],
   "source": [
    "def suma_vectorial(x, y):\n",
    "    resultado = [xn + yn for xn, yn in zip(x, y)] # zip itera en simultaneo ambas listas\n",
    "    return resultado\n",
    "\n",
    "vector_1 = [1, 2, 3]\n",
    "vector_2 = [4, 5, 6]\n",
    "suma = suma_vectorial(vector_1, vector_2)\n",
    "print(f'Vector 1: {vector_1}')\n",
    "print(f'Vector 2: {vector_2}')\n",
    "print(f'Suma vectorial: {suma}')"
   ]
  },
  {
   "cell_type": "markdown",
   "metadata": {},
   "source": [
    "**Ejercicio 17**: Cree un diccionario llamado datos_personales con los siguientes datos:\n",
    "```\n",
    "nombre: Pedro\n",
    "apellido: Perez\n",
    "edad: 43\n",
    "```\n",
    "\n",
    "1. Imprima el apellido.\n",
    "2. Cambie el valor de la edad a 24.\n",
    "3. Agregue dos elementos:\n",
    "```\n",
    "    tipo de sangre: A\n",
    "    dirección: Av. Colón 1132.\n",
    "```\n",
    "4. Elimine el elemento tipo de sangre.\n",
    "5. Imprima todo el diccionario."
   ]
  },
  {
   "cell_type": "code",
   "execution_count": 17,
   "metadata": {},
   "outputs": [
    {
     "name": "stdout",
     "output_type": "stream",
     "text": [
      "Apellido: Perez\n",
      "{'nombre': 'Pedro', 'apellido': 'Perez', 'edad': 24, 'tipo_de_sangre': 'A', 'direccion': 'Av. Colón 1132'}\n",
      "---------------------------------------------------------------------\n",
      "{'nombre': 'Pedro', 'apellido': 'Perez', 'edad': 24, 'direccion': 'Av. Colón 1132'}\n"
     ]
    }
   ],
   "source": [
    "datos_personales = {\n",
    "    \"nombre\": \"Pedro\",\n",
    "    \"apellido\": \"Perez\",\n",
    "    \"edad\": 43\n",
    "}\n",
    "print(f'Apellido: {datos_personales[\"apellido\"]}')\n",
    "datos_personales[\"edad\"] = 24\n",
    "datos_personales[\"tipo_de_sangre\"] = \"A\"\n",
    "datos_personales[\"direccion\"] = \"Av. Colón 1132\"\n",
    "print(datos_personales)\n",
    "print(\"---\"* 23)\n",
    "del datos_personales[\"tipo_de_sangre\"]\n",
    "print(datos_personales)"
   ]
  },
  {
   "cell_type": "markdown",
   "metadata": {},
   "source": [
    "**Ejercicio 18**: Cree un programa que usando while sume los números del 1 a 1000. Al final imprima la suma."
   ]
  },
  {
   "cell_type": "code",
   "execution_count": 18,
   "metadata": {},
   "outputs": [
    {
     "name": "stdout",
     "output_type": "stream",
     "text": [
      "Suma : 500500\n"
     ]
    }
   ],
   "source": [
    "num = 1\n",
    "suma = 0\n",
    "max = 1000\n",
    "while (num <= max):\n",
    "    suma += num\n",
    "    num += 1\n",
    "print(f'Suma : {suma}')"
   ]
  },
  {
   "cell_type": "markdown",
   "metadata": {},
   "source": [
    "**Ejercicio 19**: Usando for:\n",
    "1. Imprima todos los elementos de la lista `mi_lista` del ejercicio 14.\n",
    "2. Genere una nueva lista que sea los valores al cuadrado de todos los elementos de `mi_lista` que sean numéricos."
   ]
  },
  {
   "cell_type": "code",
   "execution_count": 19,
   "metadata": {},
   "outputs": [
    {
     "name": "stdout",
     "output_type": "stream",
     "text": [
      "[1, 2, 'Soy un string', 4, 5, 6, 7, 8, 4]\n",
      "---------------------------------------------------------------------\n",
      "[1, 4, 16, 25, 36, 49, 64, 16]\n"
     ]
    }
   ],
   "source": [
    "print(mi_lista)\n",
    "print(\"---\"* 23)\n",
    "nueva_lista = [elemento**2 for elemento in mi_lista if isinstance(elemento, int)]\n",
    "print(nueva_lista)"
   ]
  },
  {
   "cell_type": "markdown",
   "metadata": {},
   "source": [
    "**Ejercicio 20**: Calcule los primeros 30 números primos"
   ]
  },
  {
   "cell_type": "code",
   "execution_count": 20,
   "metadata": {},
   "outputs": [
    {
     "name": "stdout",
     "output_type": "stream",
     "text": [
      "[2, 3, 5, 7, 11, 13, 17, 19, 23, 29, 31, 37, 41, 43, 47, 53, 59, 61, 67, 71, 73, 79, 83, 89, 97, 101, 103, 107, 109, 113]\n"
     ]
    }
   ],
   "source": [
    "def verificar_primo(numero, divisor=2):\n",
    "    if numero < 2:\n",
    "        return False\n",
    "    if divisor > math.isqrt(numero): # raiz cuadrada entera\n",
    "        return True\n",
    "    if (numero % divisor) == 0:\n",
    "        return False\n",
    "    return verificar_primo(numero, divisor + 1) # recursividad\n",
    "\n",
    "numeros_primos = [x for x in range(2,1000) if verificar_primo(x)]\n",
    "primeros_30 = numeros_primos[:30]\n",
    "print(primeros_30)"
   ]
  },
  {
   "cell_type": "markdown",
   "metadata": {},
   "source": [
    "**Ejercicio 21**: Escriba una función que construya el patrón que tenga como argumento de entrada el maximo numero de asterisco de la punta (valor minimo igual a 2):\n",
    "\n",
    "```\n",
    "*\n",
    "**\n",
    "***\n",
    "****\n",
    "*****\n",
    "****\n",
    "***\n",
    "**\n",
    "*\n",
    "```"
   ]
  },
  {
   "cell_type": "code",
   "execution_count": 21,
   "metadata": {},
   "outputs": [
    {
     "name": "stdout",
     "output_type": "stream",
     "text": [
      "*\n",
      "**\n",
      "***\n",
      "****\n",
      "*****\n",
      "****\n",
      "***\n",
      "**\n",
      "*\n"
     ]
    }
   ],
   "source": [
    "def hacer_patron(filas=5):\n",
    "    for i in range(1, filas + 1):\n",
    "        print(\"*\" * i)\n",
    "    for i in range(filas - 1, 0, -1):\n",
    "        print(\"*\" * i)\n",
    "\n",
    "hacer_patron()"
   ]
  },
  {
   "cell_type": "markdown",
   "metadata": {},
   "source": [
    "**Ejercicio 22**: El matemático aleman Gottfried Leibniz desarrolló un método para aproximar el valor de π:\n",
    "\n",
    "$$ \\pi = 4 \\sum_{n=0}^{\\infty} \\frac{(-1)^n}{2n + 1} $$\n",
    "\n",
    "Escriba una función que mediante un argumento especifique el número de iteraciones usadas para aproximarse usando esta serie e imprima en pantalla el valor resultante."
   ]
  },
  {
   "cell_type": "code",
   "execution_count": 22,
   "metadata": {},
   "outputs": [
    {
     "name": "stdout",
     "output_type": "stream",
     "text": [
      "3.1425916543395442\n"
     ]
    }
   ],
   "source": [
    "def calc_pi(sumatoria=0, n=0, iteraciones=0):\n",
    "    termino_n = ((-1) ** n) / ((2 * n) + 1)\n",
    "    sumatoria += 4 * termino_n\n",
    "    if n == iteraciones:\n",
    "        return sumatoria\n",
    "    return calc_pi(sumatoria, (n + 1), iteraciones)\n",
    "\n",
    "print(calc_pi(iteraciones=1000))"
   ]
  },
  {
   "cell_type": "markdown",
   "metadata": {},
   "source": [
    "**Ejercicio 25**: Escriba un script para crear una función **lambda** que sume 15 a un número dado pasado como argumento, también cree una función **lambda** que multiplique el argumento x con el argumento y e imprima el resultado."
   ]
  },
  {
   "cell_type": "code",
   "execution_count": 23,
   "metadata": {},
   "outputs": [
    {
     "name": "stdout",
     "output_type": "stream",
     "text": [
      "25\n",
      "40\n"
     ]
    }
   ],
   "source": [
    "mas_15 = lambda x : x + 15\n",
    "print(mas_15(10))\n",
    "x_por_y_e_imprimir = lambda x, y: print(x*y)\n",
    "x_por_y_e_imprimir(10, 4)"
   ]
  },
  {
   "cell_type": "markdown",
   "metadata": {},
   "source": [
    "**Ejercicio 26**: Un sistema de administración de perros de una veterinaria permite cargar datos del perro:\n",
    "```\n",
    "Nombre del perro\n",
    "Nombre completo del dueño\n",
    "Peso\n",
    "Raza\n",
    "```\n",
    "\n",
    "Defina una clase llamada `Dog` que se inicie con todos los atributos vacíos y que con diferentes métodos se puedan completar la información y mostrar la información."
   ]
  },
  {
   "cell_type": "code",
   "execution_count": 24,
   "metadata": {},
   "outputs": [
    {
     "name": "stdout",
     "output_type": "stream",
     "text": [
      "Nombre del perro: El negro pipo\n",
      "Dueño del perro: Cheño y solo cheño\n",
      "Peso del perro: Generoso\n",
      "Raza del perro: Mestizo\n"
     ]
    }
   ],
   "source": [
    "class Dog:\n",
    "    # Constructor\n",
    "    def __init__(self):\n",
    "        # Atributos\n",
    "        self.nombre = \"\"\n",
    "        self.dueño = \"\"\n",
    "        self.peso = \"\"\n",
    "        self.raza = \"\"\n",
    "    # Metodos    \n",
    "    def set_nombre(self, nombre):\n",
    "        self.nombre = nombre\n",
    "\n",
    "    def set_dueño(self, dueño):\n",
    "        self.dueño = dueño\n",
    "\n",
    "    def set_peso(self, peso):\n",
    "        self.peso = peso\n",
    "\n",
    "    def set_raza(self, raza):\n",
    "        self.raza = raza\n",
    "\n",
    "    def mostrar_info(self):\n",
    "        print(\"Nombre del perro:\", self.nombre)\n",
    "        print(\"Dueño del perro:\", self.dueño)\n",
    "        print(\"Peso del perro:\", self.peso)\n",
    "        print(\"Raza del perro:\", self.raza)\n",
    "\n",
    "# Creo el objeto\n",
    "pipo = Dog()\n",
    "# Llamo a los metodos\n",
    "pipo.set_nombre(\"El negro pipo\")\n",
    "pipo.set_dueño(\"Cheño y solo cheño\")\n",
    "pipo.set_peso(\"Generoso\")\n",
    "pipo.set_raza(\"Mestizo\")\n",
    "pipo.mostrar_info()"
   ]
  },
  {
   "cell_type": "code",
   "execution_count": null,
   "metadata": {},
   "outputs": [],
   "source": []
  }
 ],
 "metadata": {
  "kernelspec": {
   "display_name": "Python 3 (ipykernel)",
   "language": "python",
   "name": "python3"
  },
  "language_info": {
   "codemirror_mode": {
    "name": "ipython",
    "version": 3
   },
   "file_extension": ".py",
   "mimetype": "text/x-python",
   "name": "python",
   "nbconvert_exporter": "python",
   "pygments_lexer": "ipython3",
   "version": "3.10.11"
  }
 },
 "nbformat": 4,
 "nbformat_minor": 4
}
