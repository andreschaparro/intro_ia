{
 "cells": [
  {
   "cell_type": "markdown",
   "id": "fc2654fe",
   "metadata": {},
   "source": [
    "# Estadística Descriptiva\n",
    "Inteligencia Artificial - Facundo A. Lucianna - CEIA - FIUBA\n",
    "\n",
    "Una parte esencial del día a día de un Data Scientist es realizar análisis exploratorios de datos. Buscando resumir de un dataset sus características principales, a menudo utilizando gráficos estadísticos y otros métodos de visualización de datos. Se puede usar o no un modelo estadístico, pero principalmente EDA es para ver lo que los datos pueden decirnos más allá del modelado formal.\n",
    "\n",
    "En este notebook trabajaremos con datos del [INDEC de población por provincia de 2022](https://www.indec.gob.ar/indec/web/Nivel4-Tema-2-24-85).\n",
    "\n",
    "OBS: En las celdas de procesamiento si ves ___ es para que reemplaces.\n",
    "\n",
    "---\n",
    "\n",
    "Arranquemos cargando nuestro datos.\n",
    "\n",
    "1. a. Importa `pandas` como `pd` "
   ]
  },
  {
   "cell_type": "code",
   "execution_count": 1,
   "id": "88f93c01",
   "metadata": {},
   "outputs": [],
   "source": [
    "import pandas as pd"
   ]
  },
  {
   "cell_type": "markdown",
   "id": "ce8adacd",
   "metadata": {},
   "source": [
    "1. b. De `scipy` importa `stats`"
   ]
  },
  {
   "cell_type": "code",
   "execution_count": 2,
   "id": "279d94ec",
   "metadata": {},
   "outputs": [],
   "source": [
    "from scipy import stats"
   ]
  },
  {
   "cell_type": "markdown",
   "id": "75872edb",
   "metadata": {},
   "source": [
    "2. Lea el csv `poblacion_provincias.csv` en un DataFrame y llame al DataFrame `poblacion`"
   ]
  },
  {
   "cell_type": "code",
   "execution_count": 3,
   "id": "3542d7cc",
   "metadata": {},
   "outputs": [],
   "source": [
    "poblacion = pd.read_csv(\"./datasets/poblacion_provincias.csv\")"
   ]
  },
  {
   "cell_type": "markdown",
   "id": "33efe95e",
   "metadata": {},
   "source": [
    "3. Imprima `poblacion` entero. Ademas, explore la información sobre columnas."
   ]
  },
  {
   "cell_type": "code",
   "execution_count": 4,
   "id": "0ffed83a",
   "metadata": {},
   "outputs": [
    {
     "data": {
      "text/html": [
       "<div>\n",
       "<style scoped>\n",
       "    .dataframe tbody tr th:only-of-type {\n",
       "        vertical-align: middle;\n",
       "    }\n",
       "\n",
       "    .dataframe tbody tr th {\n",
       "        vertical-align: top;\n",
       "    }\n",
       "\n",
       "    .dataframe thead th {\n",
       "        text-align: right;\n",
       "    }\n",
       "</style>\n",
       "<table border=\"1\" class=\"dataframe\">\n",
       "  <thead>\n",
       "    <tr style=\"text-align: right;\">\n",
       "      <th></th>\n",
       "      <th>region</th>\n",
       "      <th>distrito</th>\n",
       "      <th>población</th>\n",
       "    </tr>\n",
       "  </thead>\n",
       "  <tbody>\n",
       "    <tr>\n",
       "      <th>0</th>\n",
       "      <td>Pampeana</td>\n",
       "      <td>Ciudad Autónoma de Buenos Aires</td>\n",
       "      <td>3081550</td>\n",
       "    </tr>\n",
       "    <tr>\n",
       "      <th>1</th>\n",
       "      <td>Pampeana</td>\n",
       "      <td>Provincia de Buenos Aires</td>\n",
       "      <td>17875743</td>\n",
       "    </tr>\n",
       "    <tr>\n",
       "      <th>2</th>\n",
       "      <td>Noroeste</td>\n",
       "      <td>Catamarca</td>\n",
       "      <td>422476</td>\n",
       "    </tr>\n",
       "    <tr>\n",
       "      <th>3</th>\n",
       "      <td>Noreste</td>\n",
       "      <td>Chaco</td>\n",
       "      <td>1227736</td>\n",
       "    </tr>\n",
       "    <tr>\n",
       "      <th>4</th>\n",
       "      <td>Patagonia</td>\n",
       "      <td>Chubut</td>\n",
       "      <td>639294</td>\n",
       "    </tr>\n",
       "    <tr>\n",
       "      <th>5</th>\n",
       "      <td>Pampeana</td>\n",
       "      <td>Cordoba</td>\n",
       "      <td>3835738</td>\n",
       "    </tr>\n",
       "    <tr>\n",
       "      <th>6</th>\n",
       "      <td>Noreste</td>\n",
       "      <td>Corrientes</td>\n",
       "      <td>1139604</td>\n",
       "    </tr>\n",
       "    <tr>\n",
       "      <th>7</th>\n",
       "      <td>Pampeana</td>\n",
       "      <td>Entre Rios</td>\n",
       "      <td>1410908</td>\n",
       "    </tr>\n",
       "    <tr>\n",
       "      <th>8</th>\n",
       "      <td>Noreste</td>\n",
       "      <td>Formosa</td>\n",
       "      <td>614706</td>\n",
       "    </tr>\n",
       "    <tr>\n",
       "      <th>9</th>\n",
       "      <td>Noroeste</td>\n",
       "      <td>Jujuy</td>\n",
       "      <td>787436</td>\n",
       "    </tr>\n",
       "    <tr>\n",
       "      <th>10</th>\n",
       "      <td>Pampeana</td>\n",
       "      <td>La Pampa</td>\n",
       "      <td>364322</td>\n",
       "    </tr>\n",
       "    <tr>\n",
       "      <th>11</th>\n",
       "      <td>Noroeste</td>\n",
       "      <td>La Rioja</td>\n",
       "      <td>403727</td>\n",
       "    </tr>\n",
       "    <tr>\n",
       "      <th>12</th>\n",
       "      <td>Cuyo</td>\n",
       "      <td>Mendoza</td>\n",
       "      <td>2030061</td>\n",
       "    </tr>\n",
       "    <tr>\n",
       "      <th>13</th>\n",
       "      <td>Noreste</td>\n",
       "      <td>Misiones</td>\n",
       "      <td>1288476</td>\n",
       "    </tr>\n",
       "    <tr>\n",
       "      <th>14</th>\n",
       "      <td>Patagonia</td>\n",
       "      <td>Neuquen</td>\n",
       "      <td>680726</td>\n",
       "    </tr>\n",
       "    <tr>\n",
       "      <th>15</th>\n",
       "      <td>Patagonia</td>\n",
       "      <td>Río Negro</td>\n",
       "      <td>766387</td>\n",
       "    </tr>\n",
       "    <tr>\n",
       "      <th>16</th>\n",
       "      <td>Noroeste</td>\n",
       "      <td>Salta</td>\n",
       "      <td>1459378</td>\n",
       "    </tr>\n",
       "    <tr>\n",
       "      <th>17</th>\n",
       "      <td>Cuyo</td>\n",
       "      <td>San Juan</td>\n",
       "      <td>797697</td>\n",
       "    </tr>\n",
       "    <tr>\n",
       "      <th>18</th>\n",
       "      <td>Cuyo</td>\n",
       "      <td>San Luis</td>\n",
       "      <td>520845</td>\n",
       "    </tr>\n",
       "    <tr>\n",
       "      <th>19</th>\n",
       "      <td>Patagonia</td>\n",
       "      <td>Santa Cruz</td>\n",
       "      <td>383827</td>\n",
       "    </tr>\n",
       "    <tr>\n",
       "      <th>20</th>\n",
       "      <td>Pampeana</td>\n",
       "      <td>Santa Fe</td>\n",
       "      <td>3589999</td>\n",
       "    </tr>\n",
       "    <tr>\n",
       "      <th>21</th>\n",
       "      <td>Noroeste</td>\n",
       "      <td>Santiago del Estero</td>\n",
       "      <td>998093</td>\n",
       "    </tr>\n",
       "    <tr>\n",
       "      <th>22</th>\n",
       "      <td>Noroeste</td>\n",
       "      <td>Tucumán</td>\n",
       "      <td>1734118</td>\n",
       "    </tr>\n",
       "    <tr>\n",
       "      <th>23</th>\n",
       "      <td>Patagonia</td>\n",
       "      <td>Tierra del Fuego</td>\n",
       "      <td>181983</td>\n",
       "    </tr>\n",
       "  </tbody>\n",
       "</table>\n",
       "</div>"
      ],
      "text/plain": [
       "       region                         distrito  población\n",
       "0    Pampeana  Ciudad Autónoma de Buenos Aires    3081550\n",
       "1    Pampeana        Provincia de Buenos Aires   17875743\n",
       "2    Noroeste                        Catamarca     422476\n",
       "3     Noreste                            Chaco    1227736\n",
       "4   Patagonia                           Chubut     639294\n",
       "5    Pampeana                          Cordoba    3835738\n",
       "6     Noreste                       Corrientes    1139604\n",
       "7    Pampeana                       Entre Rios    1410908\n",
       "8     Noreste                          Formosa     614706\n",
       "9    Noroeste                            Jujuy     787436\n",
       "10   Pampeana                         La Pampa     364322\n",
       "11   Noroeste                         La Rioja     403727\n",
       "12       Cuyo                          Mendoza    2030061\n",
       "13    Noreste                         Misiones    1288476\n",
       "14  Patagonia                          Neuquen     680726\n",
       "15  Patagonia                        Río Negro     766387\n",
       "16   Noroeste                            Salta    1459378\n",
       "17       Cuyo                         San Juan     797697\n",
       "18       Cuyo                         San Luis     520845\n",
       "19  Patagonia                       Santa Cruz     383827\n",
       "20   Pampeana                         Santa Fe    3589999\n",
       "21   Noroeste              Santiago del Estero     998093\n",
       "22   Noroeste                          Tucumán    1734118\n",
       "23  Patagonia                 Tierra del Fuego     181983"
      ]
     },
     "execution_count": 4,
     "metadata": {},
     "output_type": "execute_result"
    }
   ],
   "source": [
    "poblacion"
   ]
  },
  {
   "cell_type": "code",
   "execution_count": 5,
   "id": "ff3530b0",
   "metadata": {},
   "outputs": [
    {
     "name": "stdout",
     "output_type": "stream",
     "text": [
      "<class 'pandas.core.frame.DataFrame'>\n",
      "RangeIndex: 24 entries, 0 to 23\n",
      "Data columns (total 3 columns):\n",
      " #   Column     Non-Null Count  Dtype \n",
      "---  ------     --------------  ----- \n",
      " 0   region     24 non-null     object\n",
      " 1   distrito   24 non-null     object\n",
      " 2   población  24 non-null     int64 \n",
      "dtypes: int64(1), object(2)\n",
      "memory usage: 704.0+ bytes\n"
     ]
    }
   ],
   "source": [
    "poblacion.info()"
   ]
  },
  {
   "cell_type": "markdown",
   "id": "c1666d7d",
   "metadata": {},
   "source": [
    "## Mediciones de posición\n",
    "\n",
    "Las variables numericas pueden tener miles de valores unicos. Un paso básico para explorar los datos, es obtener un valor tipico para cada característica o variable. Buscamos encontrar una estimación de donde se encuentran la mayoria de los datos.\n",
    "\n",
    "### Media\n",
    "\n",
    "La estimación más básica de la ubicación es la media o valor promedio. La media es la suma de todos los valores dividida por el número de valores.\n",
    "\n",
    "Calculemos el valor medio de la población de las provincias:\n",
    "\n",
    "1. Calcule la media de la columna `\"población\"` de `poblacion`, usando el metodo `.mean()`"
   ]
  },
  {
   "cell_type": "code",
   "execution_count": 6,
   "id": "89626595",
   "metadata": {},
   "outputs": [
    {
     "data": {
      "text/plain": [
       "1926451.25"
      ]
     },
     "execution_count": 6,
     "metadata": {},
     "output_type": "execute_result"
    }
   ],
   "source": [
    "poblacion[\"población\"].mean()"
   ]
  },
  {
   "cell_type": "markdown",
   "id": "54b93679",
   "metadata": {},
   "source": [
    "Una variación de la media es la **media truncada**, la cual se cálcula descartando porciones de los datos en el extremo inferior y superior, típicamente se descarta igual cantidad en ambos extremos. Justamente se hace esto para eliminar la influencia de valores alejados. \n",
    "\n",
    "Un ejemplo de uso de esto el puntaje final en competencia de salto. En el cual el puntaje más alto y más bajo son descartado para calcular el puntaje final, con el objetivo de quitar influencias de manipular el puntaje, tal vez para favorecer a su país.\n",
    "\n",
    "Otra variante es la **media ponderada**, la cual se multiplica a cada valor por un factor individual, se suma estos valores y luego se divide por la suma de los factores.  \n",
    "\n",
    "Un ejemplo de esto es calcular el puntaje promedio de un set de examenen, pero los cuales los examenes tienen diferencia ponderancia, con temas más importantes que otros.\n",
    "\n",
    "2. Calcule la media quitando a `Provincia de Buenos Aires` y `Tierra del Fuego` (Las provincias con mas y menos habitantes respectivamente)."
   ]
  },
  {
   "cell_type": "code",
   "execution_count": 7,
   "id": "e19b0f9d",
   "metadata": {},
   "outputs": [
    {
     "data": {
      "text/plain": [
       "1280777.4545454546"
      ]
     },
     "execution_count": 7,
     "metadata": {},
     "output_type": "execute_result"
    }
   ],
   "source": [
    "poblacion[~(poblacion[\"distrito\"].isin([\"Provincia de Buenos Aires\", \"Tierra del Fuego\"]))][\"población\"].mean()"
   ]
  },
  {
   "cell_type": "markdown",
   "id": "055d8dd8",
   "metadata": {},
   "source": [
    "3. Calcule la media truncada usando `stats.trim_mean()` quitando un `5%` de ambos extremos."
   ]
  },
  {
   "cell_type": "code",
   "execution_count": 8,
   "id": "d344342b",
   "metadata": {},
   "outputs": [
    {
     "data": {
      "text/plain": [
       "1280777.4545454546"
      ]
     },
     "execution_count": 8,
     "metadata": {},
     "output_type": "execute_result"
    }
   ],
   "source": [
    "stats.trim_mean(poblacion[\"población\"], proportiontocut=0.05)"
   ]
  },
  {
   "cell_type": "markdown",
   "id": "d29ed813",
   "metadata": {},
   "source": [
    "Como podemos ver stats.trim_mean() nos quita automaticamente a `Provincia de Buenos Aires` y `Tierra del Fuego` eligiendo correctamente que porcentaje cortar.\n",
    "\n",
    "### Mediana\n",
    "\n",
    "La **mediana** es el número del medio en una lista ordenada de datos. Si hay un número par de valores de datos, el valor medio es uno que no está realmente en el conjunto de datos, sino el promedio de los dos valores que dividen los datos ordenados en mitades superior e inferior. En comparación con la media, que usa todas las observaciones, la mediana depende solo de los valores en el centro de los datos ordenados.\n",
    "\n",
    "Un ejemplo de la utilidad de la mediana es por ejemplo en el cálculo del salario de un puesto, por ejemplo de Data Scientist. Para saber cuando se gana en el sector, es más util saber la mediana, ya que es el salario del medio, y no la media que puede moverse con salarios extremos (en general para valores superiores) en empresa multinacionales.\n",
    "\n",
    "1. Calcule la mediana de la columna `\"población\"` de `poblacion`, usando el metodo `.median()`"
   ]
  },
  {
   "cell_type": "code",
   "execution_count": 9,
   "id": "c551a692",
   "metadata": {},
   "outputs": [
    {
     "data": {
      "text/plain": [
       "897895.0"
      ]
     },
     "execution_count": 9,
     "metadata": {},
     "output_type": "execute_result"
    }
   ],
   "source": [
    "poblacion[\"población\"].median()"
   ]
  },
  {
   "cell_type": "markdown",
   "id": "7871c448",
   "metadata": {},
   "source": [
    "En el dataset tenemos 24 distritos. Veamos que provincias se usaron para calcular el valor de la mediana.\n",
    "\n",
    "2. Ordene a `poblacion` de menor a mayor usando `\"población\"` y asignelo a `poblacion_ord`"
   ]
  },
  {
   "cell_type": "code",
   "execution_count": 10,
   "id": "0fac4464",
   "metadata": {},
   "outputs": [],
   "source": [
    "poblacion_ord = poblacion.sort_values(by=\"población\")"
   ]
  },
  {
   "cell_type": "markdown",
   "id": "52d89682",
   "metadata": {},
   "source": [
    "3. Usando .iloc, encuentre la fila 11 y 12."
   ]
  },
  {
   "cell_type": "code",
   "execution_count": 11,
   "id": "3eccba40",
   "metadata": {},
   "outputs": [
    {
     "data": {
      "text/html": [
       "<div>\n",
       "<style scoped>\n",
       "    .dataframe tbody tr th:only-of-type {\n",
       "        vertical-align: middle;\n",
       "    }\n",
       "\n",
       "    .dataframe tbody tr th {\n",
       "        vertical-align: top;\n",
       "    }\n",
       "\n",
       "    .dataframe thead th {\n",
       "        text-align: right;\n",
       "    }\n",
       "</style>\n",
       "<table border=\"1\" class=\"dataframe\">\n",
       "  <thead>\n",
       "    <tr style=\"text-align: right;\">\n",
       "      <th></th>\n",
       "      <th>region</th>\n",
       "      <th>distrito</th>\n",
       "      <th>población</th>\n",
       "    </tr>\n",
       "  </thead>\n",
       "  <tbody>\n",
       "    <tr>\n",
       "      <th>17</th>\n",
       "      <td>Cuyo</td>\n",
       "      <td>San Juan</td>\n",
       "      <td>797697</td>\n",
       "    </tr>\n",
       "    <tr>\n",
       "      <th>21</th>\n",
       "      <td>Noroeste</td>\n",
       "      <td>Santiago del Estero</td>\n",
       "      <td>998093</td>\n",
       "    </tr>\n",
       "  </tbody>\n",
       "</table>\n",
       "</div>"
      ],
      "text/plain": [
       "      region             distrito  población\n",
       "17      Cuyo             San Juan     797697\n",
       "21  Noroeste  Santiago del Estero     998093"
      ]
     },
     "execution_count": 11,
     "metadata": {},
     "output_type": "execute_result"
    }
   ],
   "source": [
    "poblacion_ord.iloc[11:13,:]"
   ]
  },
  {
   "cell_type": "markdown",
   "id": "ec755f59",
   "metadata": {},
   "source": [
    "Ahi obtenemos a las dos provincias\n",
    "\n",
    "4. Calcule el promedio de estas dos provincias."
   ]
  },
  {
   "cell_type": "code",
   "execution_count": 12,
   "id": "8d1be0cd",
   "metadata": {},
   "outputs": [
    {
     "data": {
      "text/plain": [
       "897895.0"
      ]
     },
     "execution_count": 12,
     "metadata": {},
     "output_type": "execute_result"
    }
   ],
   "source": [
    "poblacion_ord.iloc[11:13,2].mean()"
   ]
  },
  {
   "cell_type": "markdown",
   "id": "f430c676",
   "metadata": {},
   "source": [
    "## Mediciones de variación\n",
    "\n",
    "La posición central es una de las dimensiones de sintetizado de un atributo. Una segunda dimensión, variación o dispersion, mide si los datos estan pegados entre si o si están dispersos. La dispersión de datos es quizas de una de las partes más importante de los datos, entenderla y poder distinguir de la variabilidad que es aleatoria a la que es propia del proceso.  \n",
    "\n",
    "### Desviación absoluta media\n",
    "\n",
    "Las medidas de variación mas usadas se basan en medir la diferencia entre los valores medidos y la medida de posición central. Estos desvios nos dicen que tanto estan dispersos los datos alrededor de un valor central. \n",
    "\n",
    "Una forma de medir la variabilidad es estimar un valor típico para estas desviaciones. Promediar las desviaciones no es una buena forma de hacerlo, ya que las desviaciones negativas compensan las positivas y será cercana a cero, ya que estamos usando una estimación de valor central. Por lo que una forma de evitar esto es calcular el valor absoluto de estas diferencias y de ahi calcular el promedio. Esta forma de medir variabilidad se llama **desviación absoluta media**.\n",
    "\n",
    "1. Calcule la desviación media de la columna `\"población\"` de `poblacion`, usando el metodo `.mad()`"
   ]
  },
  {
   "cell_type": "code",
   "execution_count": 13,
   "id": "f1ee14f0",
   "metadata": {},
   "outputs": [
    {
     "data": {
      "text/plain": [
       "1731736.2291666667"
      ]
     },
     "execution_count": 13,
     "metadata": {},
     "output_type": "execute_result"
    }
   ],
   "source": [
    "abs(poblacion[\"población\"] - poblacion[\"población\"].mean()).mean()"
   ]
  },
  {
   "cell_type": "markdown",
   "id": "2c2900f5",
   "metadata": {},
   "source": [
    "### Desvio estandar\n",
    "\n",
    "La medida de variación mas conocida es la **varianza** y el **desvio estandar**, los cuales están basados en vez de obtener el valor absoluto de la desviaciones, es calcular el cuadrado de ellos. La varianza es el promedio de estos desvios al cuadrado, y el desvio estandar es la raiz de la varianza. \n",
    "\n",
    "La desviación estándar es mucho más fácil de interpretar que la varianza ya que está en la misma escala que los datos originales. \n",
    "\n",
    "1. Calcule el desvio estandar de la columna `\"población\"` de `poblacion`, usando el metodo `.std()`"
   ]
  },
  {
   "cell_type": "code",
   "execution_count": 14,
   "id": "06c4f901",
   "metadata": {},
   "outputs": [
    {
     "data": {
      "text/plain": [
       "3540453.962869368"
      ]
     },
     "execution_count": 14,
     "metadata": {},
     "output_type": "execute_result"
    }
   ],
   "source": [
    "poblacion[\"población\"].std()"
   ]
  },
  {
   "cell_type": "markdown",
   "id": "61503c82",
   "metadata": {},
   "source": [
    "2. Calcule la varianza de la columna `\"población\"` de `poblacion`, usando el metodo `.var()`"
   ]
  },
  {
   "cell_type": "code",
   "execution_count": 15,
   "id": "86e06bbd",
   "metadata": {},
   "outputs": [
    {
     "data": {
      "text/plain": [
       "12534814263197.412"
      ]
     },
     "execution_count": 15,
     "metadata": {},
     "output_type": "execute_result"
    }
   ],
   "source": [
    "poblacion[\"población\"].var()"
   ]
  },
  {
   "cell_type": "markdown",
   "id": "f246e9a4",
   "metadata": {},
   "source": [
    "### Desviación absoluta mediana\n",
    "\n",
    "Las tres metricas de variacion vista hasta ahora sufre en el problema de ser afectados por valores atipico y extremos. Principalmente la **varianza** y el **desvio estandar** ya que a los desvios se elevan al cuadrado. Una forma más robusta antes valores extremos es usar la **desviación absoluta mediana**. \n",
    "\n",
    "Para esta metrica, los desvio se calculan entre los datos y la mediana. Se calcula el valor absoluto de estos desvios y finalmente se calcula la mediana del valor absoluto de los desvios.\n",
    "\n",
    "1. Calcule la desviación absoluta mediana de la columna `\"población\"` de `poblacion` usando `stats.median_abs_deviation()`"
   ]
  },
  {
   "cell_type": "code",
   "execution_count": 16,
   "id": "e7b285a3",
   "metadata": {},
   "outputs": [
    {
     "data": {
      "text/plain": [
       "484793.5"
      ]
     },
     "execution_count": 16,
     "metadata": {},
     "output_type": "execute_result"
    }
   ],
   "source": [
    "stats.median_abs_deviation(poblacion[\"población\"])"
   ]
  },
  {
   "cell_type": "markdown",
   "id": "e0a5aa1b",
   "metadata": {},
   "source": [
    "Como se puede ver, las diferentes metricas dan resultados diferentes. El desvio estandar es siempre mayor a la desviacion absoluta media, la cual es siempre mayor a la desviacion absoluta mediana. Lo importante cuando se usan estas metricas es mantener consistentes en nuestros calculos y de otros para poder realizar comparaciones similares.\n",
    "\n",
    "### Rango\n",
    "\n",
    "Otra forma de estimar la dispersion de los datos es viendo la dispersión de los datos ordenados. La medida más basica es el rango: la diferencia entre el numero mas grande y el más chico. \n",
    "\n",
    "1. Calcule el valor maximo de la columna `\"población\"` de `poblacion`, usando el metodo `.max()`. Asignelo a `poblacion_maxima`."
   ]
  },
  {
   "cell_type": "code",
   "execution_count": 17,
   "id": "d9def5d5",
   "metadata": {},
   "outputs": [],
   "source": [
    "poblacion_maxima = poblacion[\"población\"].max()"
   ]
  },
  {
   "cell_type": "markdown",
   "id": "3b5dd6e7",
   "metadata": {},
   "source": [
    "2. 1. Calcule el valor minimo de la columna `\"población\"` de `poblacion`, usando el metodo `.min()`. Asignelo a `poblacion_minima`."
   ]
  },
  {
   "cell_type": "code",
   "execution_count": 18,
   "id": "105e4860",
   "metadata": {},
   "outputs": [],
   "source": [
    "poblacion_minima = poblacion[\"población\"].min()"
   ]
  },
  {
   "cell_type": "markdown",
   "id": "ff6cb2fc",
   "metadata": {},
   "source": [
    "3. Calcule el rango de `\"población\"` usando `poblacion_maxima` y `poblacion_minima`. Asignelo a `range_pobl`"
   ]
  },
  {
   "cell_type": "code",
   "execution_count": 19,
   "id": "47cb20d8",
   "metadata": {},
   "outputs": [],
   "source": [
    "range_pobl = poblacion_maxima - poblacion_minima"
   ]
  },
  {
   "cell_type": "markdown",
   "id": "73d1b1c0",
   "metadata": {},
   "source": [
    "4. Muestre a `range_pobl`"
   ]
  },
  {
   "cell_type": "code",
   "execution_count": 20,
   "id": "1ffa33bf",
   "metadata": {},
   "outputs": [
    {
     "data": {
      "text/plain": [
       "17693760"
      ]
     },
     "execution_count": 20,
     "metadata": {},
     "output_type": "execute_result"
    }
   ],
   "source": [
    "range_pobl"
   ]
  },
  {
   "cell_type": "markdown",
   "id": "53dece50",
   "metadata": {},
   "source": [
    "Aunque siempre es util saber cual es el valor maximo y minimo de un conjunto de datos, pero el rango es muy sensible a los valores atípicos y no es muy útil como medida general de dispersión en los datos.\n",
    "\n",
    "### Rango basado en percentiles\n",
    "\n",
    "Para evitar la sensiblidad de los valores alejados, se puede ver el **rango** de los datos luego de descartar los valores de cada extremos. Formalmente, estos tipos de estimaciones se basan en la diferencia entre porcentiles. \n",
    "\n",
    "> En un dataset, el percentil Pth es un valor tal que al menos el P por ciento de los valores toman este valor o menos y al menos el (100 – P) por ciento de los valores toman este valor o más. Por ejemplo, para encontrar el percentil 70, se ordena los datos, y luego arrancando del valor más bajo se avanza hasta tomar el 70% de los datos, el ultimo valor que se obtiene es el percentil 70. La mediana es lo mismo que obtener el percentil 50. \n",
    "\n",
    "Una variante de percentiles es el cuantil, el cual se indexan los valores usando fracciones (El cuantil 0.7 es lo mismo que el percentil 70).\n",
    "\n",
    "1. Calcule el cuantil (o percentil) 0.25 y 0.75 (25% y 75%) de la columna `\"población\"` de `poblacion`, usando el metodo `.quantile()`. Asignelo a `percentile_XX` siendo XX el percentil a calcular."
   ]
  },
  {
   "cell_type": "code",
   "execution_count": 21,
   "id": "a3ba20f1",
   "metadata": {},
   "outputs": [],
   "source": [
    "percentile_25 = poblacion[\"población\"].quantile(.25)\n",
    "percentile_75 = poblacion[\"población\"].quantile(.75)"
   ]
  },
  {
   "cell_type": "markdown",
   "id": "9c17c863",
   "metadata": {},
   "source": [
    "2. Imprima todos los percentiles"
   ]
  },
  {
   "cell_type": "code",
   "execution_count": 22,
   "id": "bc085c71",
   "metadata": {},
   "outputs": [
    {
     "name": "stdout",
     "output_type": "stream",
     "text": [
      "591240.75\n",
      "1528063.0\n"
     ]
    }
   ],
   "source": [
    "print(percentile_25)\n",
    "print(percentile_75)"
   ]
  },
  {
   "cell_type": "markdown",
   "id": "6dacaa89",
   "metadata": {},
   "source": [
    "#### Rango intercuartil\n",
    "\n",
    "Una medida común de la variabilidad es la diferencia entre el **percentil 25** y el **percentil 75**, denominada **rango intercuartil (o IQR)**. \n",
    "\n",
    "> Un cuartil es una variante del percentil, en el cual en vez de dividir en 100 valores posibles, se divide en 4, siendo:\n",
    "> - Q1: percentil 25\n",
    "> - Q2: percentil 50\n",
    "> - Q3: percentil 75\n",
    "\n",
    "El rango intercuartil es la diferencia entre **Q1** y **Q3**. \n",
    "\n",
    "1. Calcule el rango intercuartil de la columna `\"población\"` de `poblacion`, usando el metodo `.quantile()`. Asignelo a IQR."
   ]
  },
  {
   "cell_type": "code",
   "execution_count": 23,
   "id": "1d82f09c",
   "metadata": {},
   "outputs": [],
   "source": [
    "IQR = poblacion[\"población\"].quantile(.75) - poblacion[\"población\"].quantile(.25)"
   ]
  },
  {
   "cell_type": "markdown",
   "id": "3a644d9c",
   "metadata": {},
   "source": [
    "2. Muestre el resultado"
   ]
  },
  {
   "cell_type": "code",
   "execution_count": 24,
   "id": "b1605e40",
   "metadata": {},
   "outputs": [
    {
     "data": {
      "text/plain": [
       "936822.25"
      ]
     },
     "execution_count": 24,
     "metadata": {},
     "output_type": "execute_result"
    }
   ],
   "source": [
    "IQR"
   ]
  },
  {
   "cell_type": "markdown",
   "id": "ae96bc00",
   "metadata": {},
   "source": [
    "El rango intercuartil es una medida de dispersión robusta a valores alejados. El principal problema en obtener el rango basado en percentiles es que es costoso computacionalmente, por lo que en dataset grandes puede demorar mucho tiempo en calcularse.\n",
    "\n",
    "## Explorando la distribución de los datos\n",
    "\n",
    "Cada una de las estimaciones que hemos visto resume los datos en un solo número para describir la posición o la variabilidad de los datos. Aunque nos presenta un buen resumen de los datos, no alcanza para tener una idea general de los mismos, por eso es útil explorar cómo se distribuyen los datos en general.\n",
    "\n",
    "### Percentiles y diagramas de caja\n",
    "\n",
    "Cuando vimos *Rango basado en percentiles*, vimos que se pueden usar estos percentiles para medir la dispersión de los datos. Pero los percentiles son valiosos para resumir la distribución de los datos. Es habitual informar los cuartiles (percentiles 25, 50 y 75) y los deciles (percentiles 10, 20,..., 90). Los percentiles son especialmente valiosos para resumir las colas de la distribución. Un caso común que se observa esto es en el Principio de Pareto:\n",
    "\n",
    "> El principio de Pareto describe el fenómeno estadístico por el que en cualquier población que contribuye a un efecto común, es una proporción pequeña la que contribuye a la mayor parte del efecto. Por ejemplo, al describir la riqueza mundial, se observa que aproximadamente el 20% de la población ostenta el 80% de la riqueza.\n",
    "\n",
    "Por lo que cualquier distribución de estas características, con una cola larga ([long-tail](https://www.statology.org/long-tail-distribution/)) los percentiles pueden ser útiles. \n",
    "\n",
    "1. Calcule el cuantil (o percentil) 0.12, 0.25, 0.5, 0.6, 0.75, 0.94 y 1 (12%, 25%, 50%, 60%, 75%, 94% y 100%) de la columna `\"población\"` de `poblacion`, usando el metodo `.quantile()`. Asignelo a `percentile_XX` siendo XX el percentil a calcular."
   ]
  },
  {
   "cell_type": "code",
   "execution_count": 25,
   "id": "a40d09bc",
   "metadata": {},
   "outputs": [],
   "source": [
    "percentile_12 = poblacion[\"población\"].quantile(.12)\n",
    "percentile_25 = poblacion[\"población\"].quantile(.25)\n",
    "percentile_50 = poblacion[\"población\"].quantile(.50)\n",
    "percentile_60 = poblacion[\"población\"].quantile(.60)\n",
    "percentile_75 = poblacion[\"población\"].quantile(.75)\n",
    "percentile_94 = poblacion[\"población\"].quantile(.94)\n",
    "percentile_100 = poblacion[\"población\"].quantile(.100)"
   ]
  },
  {
   "cell_type": "markdown",
   "id": "6baf8586",
   "metadata": {},
   "source": [
    "2. Imprima todos los percentiles"
   ]
  },
  {
   "cell_type": "code",
   "execution_count": 26,
   "id": "1cb7ff7c",
   "metadata": {},
   "outputs": [
    {
     "name": "stdout",
     "output_type": "stream",
     "text": [
      "398951.0\n",
      "591240.75\n",
      "897895.0\n",
      "1210109.5999999999\n",
      "1528063.0\n",
      "3742357.1799999992\n",
      "389797.0\n"
     ]
    }
   ],
   "source": [
    "print(percentile_12)\n",
    "print(percentile_25)\n",
    "print(percentile_50)\n",
    "print(percentile_60)\n",
    "print(percentile_75)\n",
    "print(percentile_94)\n",
    "print(percentile_100)"
   ]
  },
  {
   "cell_type": "markdown",
   "id": "ea8394dc",
   "metadata": {},
   "source": [
    "Santa Cruz tiene una población que la ubica cercana del percentil 12. En cambio, Córdoba vemos que presenta una población que se ubica cercano del percentil 94%."
   ]
  },
  {
   "cell_type": "code",
   "execution_count": 27,
   "id": "9f6aad29",
   "metadata": {},
   "outputs": [
    {
     "data": {
      "text/html": [
       "<div>\n",
       "<style scoped>\n",
       "    .dataframe tbody tr th:only-of-type {\n",
       "        vertical-align: middle;\n",
       "    }\n",
       "\n",
       "    .dataframe tbody tr th {\n",
       "        vertical-align: top;\n",
       "    }\n",
       "\n",
       "    .dataframe thead th {\n",
       "        text-align: right;\n",
       "    }\n",
       "</style>\n",
       "<table border=\"1\" class=\"dataframe\">\n",
       "  <thead>\n",
       "    <tr style=\"text-align: right;\">\n",
       "      <th></th>\n",
       "      <th>region</th>\n",
       "      <th>distrito</th>\n",
       "      <th>población</th>\n",
       "    </tr>\n",
       "  </thead>\n",
       "  <tbody>\n",
       "    <tr>\n",
       "      <th>19</th>\n",
       "      <td>Patagonia</td>\n",
       "      <td>Santa Cruz</td>\n",
       "      <td>383827</td>\n",
       "    </tr>\n",
       "  </tbody>\n",
       "</table>\n",
       "</div>"
      ],
      "text/plain": [
       "       region    distrito  población\n",
       "19  Patagonia  Santa Cruz     383827"
      ]
     },
     "execution_count": 27,
     "metadata": {},
     "output_type": "execute_result"
    }
   ],
   "source": [
    "poblacion[poblacion[\"distrito\"] == \"Santa Cruz\"]"
   ]
  },
  {
   "cell_type": "code",
   "execution_count": 28,
   "id": "8446441e",
   "metadata": {},
   "outputs": [
    {
     "data": {
      "text/html": [
       "<div>\n",
       "<style scoped>\n",
       "    .dataframe tbody tr th:only-of-type {\n",
       "        vertical-align: middle;\n",
       "    }\n",
       "\n",
       "    .dataframe tbody tr th {\n",
       "        vertical-align: top;\n",
       "    }\n",
       "\n",
       "    .dataframe thead th {\n",
       "        text-align: right;\n",
       "    }\n",
       "</style>\n",
       "<table border=\"1\" class=\"dataframe\">\n",
       "  <thead>\n",
       "    <tr style=\"text-align: right;\">\n",
       "      <th></th>\n",
       "      <th>region</th>\n",
       "      <th>distrito</th>\n",
       "      <th>población</th>\n",
       "    </tr>\n",
       "  </thead>\n",
       "  <tbody>\n",
       "    <tr>\n",
       "      <th>5</th>\n",
       "      <td>Pampeana</td>\n",
       "      <td>Cordoba</td>\n",
       "      <td>3835738</td>\n",
       "    </tr>\n",
       "  </tbody>\n",
       "</table>\n",
       "</div>"
      ],
      "text/plain": [
       "     region distrito  población\n",
       "5  Pampeana  Cordoba    3835738"
      ]
     },
     "execution_count": 28,
     "metadata": {},
     "output_type": "execute_result"
    }
   ],
   "source": [
    "poblacion[poblacion[\"distrito\"] == \"Cordoba\"]"
   ]
  },
  {
   "cell_type": "markdown",
   "id": "684f15cf",
   "metadata": {},
   "source": [
    "Los diagramas de cajas están basadas en los percentiles, y dan una rapida visualización de la distribución de los datos.\n",
    "\n",
    "1. Grafique el diagrama de caja de la columna `\"población\"` de `poblacion`, usando el metodo `.plot.box()`."
   ]
  },
  {
   "cell_type": "code",
   "execution_count": 29,
   "id": "ad7b3b93",
   "metadata": {},
   "outputs": [
    {
     "data": {
      "image/png": "[encoded data removed]",
      "text/plain": [
       "<Figure size 640x480 with 1 Axes>"
      ]
     },
     "metadata": {},
     "output_type": "display_data"
    }
   ],
   "source": [
    "ax = poblacion[\"población\"].plot.box()\n",
    "ax.set_ylabel('Population');\n",
    "ax.set_xticklabels('');"
   ]
  },
  {
   "cell_type": "markdown",
   "id": "4f1c3f60",
   "metadata": {},
   "source": [
    "A partir de este diagrama de caja, podemos ver de inmediato que la población de las provincias promedio es de aproximadamente 1 millón, que la mitad de las provincias están entre 500.000 y 1.500.000 y hay valores atípicos de población altos. La parte superior e inferior de la caja son los percentiles 75 y 25, respectivamente. La mediana se muestra con la línea horizontal en el recuadro. Las líneas que salen de la caja, denominadas bigotes, se extienden desde la parte superior e inferior del cuadro para indicar el rango de la mayor parte de los datos. Los bigotes es la librería gráfica que usa Pandas por detrás (Matplotlib) los extiende por defecto hasta 1.5 veces el valor del IQR (pero se puede modificar y otros software usan otra interpretación). Cualquier valor por fuera de los bigotes se consideran valores alejados y se los representa como círculos unicos.\n",
    "\n",
    "### Tablas de frecuencia e histogramas\n",
    "\n",
    "Una tabla de frecuencia de una variable divide el rango de la variable en segmentos igualmente espaciados y nos dice cuántos valores caen dentro de cada segmento.\n",
    "\n",
    "1. La función `pd.cut` crea una serie que mapea los valores en los segmentos. Usando la función `pd.cut` divida en 15 segmentos a la columna `\"poblacion\"` del dataframe `poblacion`. Asignelo a `segmento_provincia`."
   ]
  },
  {
   "cell_type": "code",
   "execution_count": 30,
   "id": "79b7c528",
   "metadata": {},
   "outputs": [],
   "source": [
    "segmento_provincia = pd.cut(poblacion[\"población\"], 15)"
   ]
  },
  {
   "cell_type": "markdown",
   "id": "4661cbf5",
   "metadata": {},
   "source": [
    "2. Obtenga la cuenta de cuanta provincias se encuentra en cada segmento usando el metodo `.value_counts()` en `segmento_provincia`."
   ]
  },
  {
   "cell_type": "code",
   "execution_count": 31,
   "id": "268bc863",
   "metadata": {},
   "outputs": [
    {
     "data": {
      "text/plain": [
       "población\n",
       "(164289.24, 1361567.0]      16\n",
       "(1361567.0, 2541151.0]       4\n",
       "(2541151.0, 3720735.0]       2\n",
       "(3720735.0, 4900319.0]       1\n",
       "(16696159.0, 17875743.0]     1\n",
       "(4900319.0, 6079903.0]       0\n",
       "(6079903.0, 7259487.0]       0\n",
       "(7259487.0, 8439071.0]       0\n",
       "(8439071.0, 9618655.0]       0\n",
       "(9618655.0, 10798239.0]      0\n",
       "(10798239.0, 11977823.0]     0\n",
       "(11977823.0, 13157407.0]     0\n",
       "(13157407.0, 14336991.0]     0\n",
       "(14336991.0, 15516575.0]     0\n",
       "(15516575.0, 16696159.0]     0\n",
       "Name: count, dtype: int64"
      ]
     },
     "execution_count": 31,
     "metadata": {},
     "output_type": "execute_result"
    }
   ],
   "source": [
    "segmento_provincia.value_counts()"
   ]
  },
  {
   "cell_type": "markdown",
   "id": "9f654620",
   "metadata": {},
   "source": [
    "Obsérvese que a pesar que haber una gran cantidad de segmentos, la mayoría de las provincias se encuentran en el primer segmento (menos de 1.361.567 habitantes). Cada segmento es de un rango de 1.179.584 habitantes. La provincia con mayor habitante es la provincia de Buenos Aires, los segmentos que están por debajo de la provincia de Buenos Aires están vacíos. Es importante incluir los segmentos vacíos; el hecho de que no haya valores en esos segmentos es información útil. También puede ser útil experimentar con diferentes tamaños de segmentos. Si son demasiado grandes, las características importantes de la distribución pueden perderse. Si son demasiado pequeños, el resultado es demasiado granular y se pierde la capacidad de ver el panorama general.\n",
    "\n",
    "Un histograma es una forma de visualizar una tabla de frecuencia, con los segmentos en el eje x y el conteo de datos en el eje y. \n",
    "\n",
    "1. Grafique el histograma de la columna `\"población\"` de `poblacion`, usando el metodo `.plot.hist()` con quince segmentos (`bins=15`)."
   ]
  },
  {
   "cell_type": "code",
   "execution_count": 32,
   "id": "49741cba",
   "metadata": {},
   "outputs": [
    {
     "data": {
      "image/png": "[encoded data removed]",
      "text/plain": [
       "<Figure size 640x480 with 1 Axes>"
      ]
     },
     "metadata": {},
     "output_type": "display_data"
    }
   ],
   "source": [
    "ax = (poblacion[\"población\"]).plot.hist(bins=15)\n",
    "ax.set_xlabel('Population');"
   ]
  },
  {
   "cell_type": "markdown",
   "id": "1cbdd15b",
   "metadata": {},
   "source": [
    "En general, los histogramas se grafican de manera que:\n",
    "- Los segmentos vacíos se incluyen en el gráfico.\n",
    "- Los segmentos tienen el mismo ancho.\n",
    "- El número de segmentos es a elección del usuario.\n",
    "- Las barras son contiguas, no se muestra ningún espacio vacío entre las barras, a menos que haya un segmentos vacío.\n",
    "\n",
    "### Gráfica de densidad\n",
    "\n",
    "Relacionado con el histograma se encuentra el gráfico de densidad, que muestra la distribución de valores de datos como ua línea continua. Este tipo de grafico se puede considerar como un histograma suavizado, haciendo uso de los datos directos a travez de estimación de la densidad del núcleo (para entender en mejor detalle como se construye estos graficos, le recomendamos este [trabajo](https://www.mvstat.net/tduong/research/seminars/seminar-2001-05.pdf).\n",
    "\n",
    "1. Grafique el histograma de la columna `\"población\"` de `poblacion`, usando el metodo `.plot.hist()` con quince segmentos (`bins=15`) y que el eje y sea la densidad de probabilidad (`density=True`), es decir el conteo por segmento dividido la cuenta total por el ancho de los segmentos.\n",
    "2. Grafique en el mismo eje la gráfica de densidad de la columna `\"población\"` de `poblacion`, usando el metodo `.plot.density()`."
   ]
  },
  {
   "cell_type": "code",
   "execution_count": 33,
   "id": "0ad92cd8",
   "metadata": {},
   "outputs": [
    {
     "data": {
      "image/png": "[encoded data removed]",
      "text/plain": [
       "<Figure size 640x480 with 1 Axes>"
      ]
     },
     "metadata": {},
     "output_type": "display_data"
    }
   ],
   "source": [
    "ax = poblacion[\"población\"].plot.hist(bins=15, density=True)\n",
    "ax = poblacion[\"población\"].plot.density(ax=ax)\n",
    "ax.set_xlabel('Población')\n",
    "ax.set_xlim([0, 22000000])\n",
    "ax.legend([\"Histograma\", \"Gráfico de densidad\"]);"
   ]
  }
 ],
 "metadata": {
  "kernelspec": {
   "display_name": "Python 3 (ipykernel)",
   "language": "python",
   "name": "python3"
  },
  "language_info": {
   "codemirror_mode": {
    "name": "ipython",
    "version": 3
   },
   "file_extension": ".py",
   "mimetype": "text/x-python",
   "name": "python",
   "nbconvert_exporter": "python",
   "pygments_lexer": "ipython3",
   "version": "3.10.11"
  }
 },
 "nbformat": 4,
 "nbformat_minor": 5
}
