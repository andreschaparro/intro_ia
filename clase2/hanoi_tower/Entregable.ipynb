{
 "cells": [
  {
   "cell_type": "markdown",
   "id": "6af72783-2535-4540-a74d-72cdf317252d",
   "metadata": {},
   "source": [
    "# Tareas y preguntas a resolver:\n",
    "\n",
    "Resolvio: Ing. Andres Chaparro\n",
    "\n",
    "1. ¿Cuales son los PEAS de este problema? (Performance, Environment, Actuators, Sensors)?"
   ]
  },
  {
   "cell_type": "markdown",
   "id": "04d4d7bd-4e76-498a-83fd-99122d79a4a8",
   "metadata": {},
   "source": [
    "- Performance: cantidad de movimientos para llegar a la solucion.\n",
    "- Environment: un tablero con tres varillas (izquierda, centro, y derecha) y 5 discos apilados en las mismas que tienen diferentes tamaños. Donde, en cualquier varilla no puede haber un disco mas grande sobre un disco mas pequeño.\n",
    "- Actuators: mover el disco que se encuentre en la parte superior de una varilla a otra donde este permitido hacerlo.\n",
    "- Sensors: detectar cuantos discos y en que orden estan en cada varilla."
   ]
  },
  {
   "cell_type": "markdown",
   "id": "b1c53892-da95-4522-a728-2065b9a2ae61",
   "metadata": {},
   "source": [
    "2. ¿Cuales son las propiedades del entorno de trabajo?"
   ]
  },
  {
   "cell_type": "markdown",
   "id": "100b1655-839e-4e58-a907-a66758ceb86a",
   "metadata": {},
   "source": [
    "- Episodico: cada vez que el agente resuelve el problema conforma un episodio. Y si se resuelve el problema varias veces, un episodio anterior no afecta al siguiente, es decir, no estan interconectados.\n",
    "- Agente unico: hay un unico agente resolviendo el problema.\n",
    "- Totalmente observable: en cualquier momento el agente puede observar el estado del environment, es decir, que disco esta en la parte superior de cada varilla y cuales debajo, no hay informacion oculta o desconocida.\n",
    "- Determinista: cada accion tomada por el agente, en un estado dado del environment, siempre producira el mismo resultado unico y predecible, es decir, no puede ser aleatorio.\n",
    "- Estatico: el estado del environment no cambia mientras el agente esta buscando cual es la accion correcta a tomar.\n",
    "- Discreto: los estados del environment se pueden enumerar de forma finita y una accion transcurre durante un paso del tiempo.\n",
    "- Conocido: se conoce el estado inicial (todos los discos apilados en la torre izquierda), el estado final (todos los discos apilados en la torre derecha), y la regla de que en cualquier varilla no puede haber un disco mas grande sobre un disco mas pequeño.\n",
    "\n",
    "Cuando se dan todas condiciones anteriores, y nuestro agente necesita plaficar una secuencia de acciones para llegar al estado final, formando un camino, lo llamamos agente de resolucion de problemas. Y el proceso que realiza para encontrar el camino, se llama busqueda."
   ]
  },
  {
   "cell_type": "markdown",
   "id": "146acb28-989b-448b-91f9-9d34b370e4be",
   "metadata": {},
   "source": [
    "3. En el contexto de este problema, establezca cuales son los: estado, espacio de estados, arbol de busqueda, nodo de busqueda, objetivo, accion y frontera."
   ]
  },
  {
   "cell_type": "markdown",
   "id": "ec1e1ff1-73af-4706-af59-0f30c263c01f",
   "metadata": {},
   "source": [
    "- Estado: cuantos discos y en que orden estan en cada varilla.\n",
    "- Espacio de estados: $3^5 = 243$ estados posibles con los que se puede conformar un grafo de estados.\n",
    "- Arbol de busqueda: describe el camino que lleva desde el estado incial al objetivo sobre el grafo de estado, y que debe ser encontrado por el agente de resolucion de problemas realizando una busqueda.\n",
    "- Nodo de busqueda: corresponde a un estado del grado de estados, pero que pertenece al arbol de busqueda.\n",
    "- Objetivo: son los estados donde consideramos que el problema esta resuelto. En este caso, solo tomamos uno y que previamente lo denominamos como el estado final (todos los discos apilados de la torre derecha).\n",
    "- Accion: son las aristas del arbol de estado y que interconectan los nodos. Que en este caso pueden ser:\n",
    "    - Mover a la varilla de la izquierda.\n",
    "    - Mover a la varilla del centro.\n",
    "    - Mover a la varilla de la derecha.\n",
    "- Frontera: separa dos regiones del grafo de estados, una que fue explorada por el algoritmo y otra que no fue explorada."
   ]
  },
  {
   "cell_type": "markdown",
   "id": "5dd22ce9-d0cb-4168-ac54-2abf4e2bac77",
   "metadata": {},
   "source": [
    "4. Implemente algún metodo de busqueda. Puedes elegir cualquiera menos busqueda en anchura primero que ya esta desarrollado. Sos libre de elegir cualquiera de los vistos en clases, o inclusive buscar nuevos."
   ]
  },
  {
   "cell_type": "code",
   "execution_count": 1,
   "id": "fb1d4a8e-b501-4b2d-a3c6-ff37dd1ab0e7",
   "metadata": {},
   "outputs": [],
   "source": [
    "from hanoi_states import StatesHanoi\n",
    "from hanoi_states import ProblemHanoi\n",
    "from tree_hanoi import NodeHanoi\n",
    "from aima import PriorityQueue"
   ]
  },
  {
   "cell_type": "code",
   "execution_count": 2,
   "id": "ae62be93-22c8-43ae-88fd-ffd21cafc836",
   "metadata": {},
   "outputs": [
    {
     "name": "stdout",
     "output_type": "stream",
     "text": [
      "Encontramos la solución\n"
     ]
    }
   ],
   "source": [
    "# busqueda en anchura\n",
    "\n",
    "initial_state = StatesHanoi([5, 4, 3, 2, 1], [], [], max_disks=5)\n",
    "goal_state = StatesHanoi([], [], [5, 4, 3, 2, 1], max_disks=5)\n",
    "problem = ProblemHanoi(initial=initial_state, goal=goal_state)\n",
    "frontier = [NodeHanoi(problem.initial)] # Creamos una cola FIFO con el nodo inicial\n",
    "\n",
    "explored = set() # Este set nos permite ver si ya exploramos un estado para evitar repetir indefinidamente\n",
    "\n",
    "# Mientras que la cola no este vacia\n",
    "while len(frontier) != 0:\n",
    "    node = frontier.pop()  # Extraemos el primer nodo de la cola\n",
    "    \n",
    "    # Agregamos nodo al set. Esto evita guardar duplicados, porque set nunca tiene elementos repetidos\n",
    "    explored.add(node.state)\n",
    "    \n",
    "    if problem.goal_test(node.state):  # Comprobamos si hemos alcanzado el estado objetivo\n",
    "        last_node = node\n",
    "        print(\"Encontramos la solución\")\n",
    "        break\n",
    "    \n",
    "    # Agregamos a la cola todos los nodos sucesores del nodo actual\n",
    "    for next_node in node.expand(problem):\n",
    "        # Solo si no fue explorado\n",
    "        if next_node.state not in explored:\n",
    "            frontier.insert(0, next_node)"
   ]
  },
  {
   "cell_type": "code",
   "execution_count": 3,
   "id": "cc765e95-14da-425f-848a-47e3231e0584",
   "metadata": {},
   "outputs": [
    {
     "name": "stdout",
     "output_type": "stream",
     "text": [
      "Longitud del camino de la solución: 31.0\n",
      "233 nodos se expandieron y 285 nodos quedaron en la frontera\n"
     ]
    }
   ],
   "source": [
    "print(f'Longitud del camino de la solución: {last_node.state.accumulated_cost}')\n",
    "print(len(explored), \"nodos se expandieron y\", len(frontier), \"nodos quedaron en la frontera\")"
   ]
  },
  {
   "cell_type": "code",
   "execution_count": 4,
   "id": "96e2a20e-d392-420b-8ea9-1a14275cd065",
   "metadata": {},
   "outputs": [
    {
     "name": "stdout",
     "output_type": "stream",
     "text": [
      "HanoiState:  |  | 5 4 3 2 1\n",
      "HanoiState: 1 |  | 5 4 3 2\n",
      "HanoiState: 1 | 2 | 5 4 3\n",
      "HanoiState:  | 2 1 | 5 4 3\n",
      "HanoiState: 3 | 2 1 | 5 4\n",
      "HanoiState: 3 | 2 | 5 4 1\n",
      "HanoiState: 3 2 |  | 5 4 1\n",
      "HanoiState: 3 2 1 |  | 5 4\n",
      "HanoiState: 3 2 1 | 4 | 5\n",
      "HanoiState: 3 2 | 4 1 | 5\n",
      "HanoiState: 3 | 4 1 | 5 2\n",
      "HanoiState: 3 | 4 | 5 2 1\n",
      "HanoiState:  | 4 3 | 5 2 1\n",
      "HanoiState: 1 | 4 3 | 5 2\n",
      "HanoiState: 1 | 4 3 2 | 5\n",
      "HanoiState:  | 4 3 2 1 | 5\n",
      "HanoiState: 5 | 4 3 2 1 | \n",
      "HanoiState: 5 | 4 3 2 | 1\n",
      "HanoiState: 5 2 | 4 3 | 1\n",
      "HanoiState: 5 2 1 | 4 3 | \n",
      "HanoiState: 5 2 1 | 4 | 3\n",
      "HanoiState: 5 2 | 4 1 | 3\n",
      "HanoiState: 5 | 4 1 | 3 2\n",
      "HanoiState: 5 | 4 | 3 2 1\n",
      "HanoiState: 5 4 |  | 3 2 1\n",
      "HanoiState: 5 4 1 |  | 3 2\n",
      "HanoiState: 5 4 1 | 2 | 3\n",
      "HanoiState: 5 4 | 2 1 | 3\n",
      "HanoiState: 5 4 3 | 2 1 | \n",
      "HanoiState: 5 4 3 | 2 | 1\n",
      "HanoiState: 5 4 3 2 |  | 1\n"
     ]
    }
   ],
   "source": [
    "node = last_node\n",
    "while node.parent is not None:\n",
    "    print(node.state)\n",
    "    node = node.parent"
   ]
  },
  {
   "cell_type": "code",
   "execution_count": 5,
   "id": "2c5e7095-386f-4cfe-941e-52875505bcdd",
   "metadata": {},
   "outputs": [
    {
     "name": "stdout",
     "output_type": "stream",
     "text": [
      "Encontramos la solución\n"
     ]
    }
   ],
   "source": [
    "# busqueda de costo uniforme o algoritmo de Dijkstra\n",
    "\n",
    "initial_state = StatesHanoi([5, 4, 3, 2, 1], [], [], max_disks=5)\n",
    "goal_state = StatesHanoi([], [], [5, 4, 3, 2, 1], max_disks=5)\n",
    "problem = ProblemHanoi(initial=initial_state, goal=goal_state)\n",
    "frontier = frontier = PriorityQueue(order=\"min\", f=lambda node: node.path_cost)  # Creamos una cola prioritaria con el nodo inicial\n",
    "frontier.append(NodeHanoi(problem.initial))\n",
    "\n",
    "explored = set() # Este set nos permite ver si ya exploramos un estado para evitar repetir indefinidamente\n",
    "\n",
    "# Mientras que la cola no este vacia\n",
    "while len(frontier) != 0:\n",
    "    node = frontier.pop()  # Extraemos el primer nodo de la cola\n",
    "    \n",
    "    # Agregamos nodo al set. Esto evita guardar duplicados, porque set nunca tiene elementos repetidos\n",
    "    explored.add(node.state)\n",
    "    \n",
    "    if problem.goal_test(node.state):  # Comprobamos si hemos alcanzado el estado objetivo\n",
    "        last_node = node\n",
    "        print(\"Encontramos la solución\")\n",
    "        break\n",
    "    \n",
    "    # Agregamos a la cola todos los nodos sucesores del nodo actual\n",
    "    for next_node in node.expand(problem):\n",
    "        # Solo si no fue explorado\n",
    "        if next_node.state not in explored:\n",
    "            frontier.append(next_node)"
   ]
  },
  {
   "cell_type": "code",
   "execution_count": 6,
   "id": "ecb4c52d-0bdc-4396-9f04-4c95283152a8",
   "metadata": {},
   "outputs": [
    {
     "name": "stdout",
     "output_type": "stream",
     "text": [
      "Longitud del camino de la solución: 31.0\n",
      "216 nodos se expandieron y 45 nodos quedaron en la frontera\n"
     ]
    }
   ],
   "source": [
    "print(f'Longitud del camino de la solución: {last_node.state.accumulated_cost}')\n",
    "print(len(explored), \"nodos se expandieron y\", len(frontier), \"nodos quedaron en la frontera\")"
   ]
  },
  {
   "cell_type": "code",
   "execution_count": 7,
   "id": "6f3946fc-3da1-40ab-9cf5-3822ab5ac89b",
   "metadata": {},
   "outputs": [
    {
     "name": "stdout",
     "output_type": "stream",
     "text": [
      "HanoiState:  |  | 5 4 3 2 1\n",
      "HanoiState: 1 |  | 5 4 3 2\n",
      "HanoiState: 1 | 2 | 5 4 3\n",
      "HanoiState:  | 2 1 | 5 4 3\n",
      "HanoiState: 3 | 2 1 | 5 4\n",
      "HanoiState: 3 | 2 | 5 4 1\n",
      "HanoiState: 3 2 |  | 5 4 1\n",
      "HanoiState: 3 2 1 |  | 5 4\n",
      "HanoiState: 3 2 1 | 4 | 5\n",
      "HanoiState: 3 2 | 4 1 | 5\n",
      "HanoiState: 3 | 4 1 | 5 2\n",
      "HanoiState: 3 | 4 | 5 2 1\n",
      "HanoiState:  | 4 3 | 5 2 1\n",
      "HanoiState: 1 | 4 3 | 5 2\n",
      "HanoiState: 1 | 4 3 2 | 5\n",
      "HanoiState:  | 4 3 2 1 | 5\n",
      "HanoiState: 5 | 4 3 2 1 | \n",
      "HanoiState: 5 | 4 3 2 | 1\n",
      "HanoiState: 5 2 | 4 3 | 1\n",
      "HanoiState: 5 2 1 | 4 3 | \n",
      "HanoiState: 5 2 1 | 4 | 3\n",
      "HanoiState: 5 2 | 4 1 | 3\n",
      "HanoiState: 5 | 4 1 | 3 2\n",
      "HanoiState: 5 | 4 | 3 2 1\n",
      "HanoiState: 5 4 |  | 3 2 1\n",
      "HanoiState: 5 4 1 |  | 3 2\n",
      "HanoiState: 5 4 1 | 2 | 3\n",
      "HanoiState: 5 4 | 2 1 | 3\n",
      "HanoiState: 5 4 3 | 2 1 | \n",
      "HanoiState: 5 4 3 | 2 | 1\n",
      "HanoiState: 5 4 3 2 |  | 1\n"
     ]
    }
   ],
   "source": [
    "node = last_node\n",
    "while node.parent is not None:\n",
    "    print(node.state)\n",
    "    node = node.parent"
   ]
  },
  {
   "cell_type": "code",
   "execution_count": 8,
   "id": "ee60132a-5326-4f09-825e-c4ebaad53d31",
   "metadata": {},
   "outputs": [
    {
     "name": "stdout",
     "output_type": "stream",
     "text": [
      "Encontramos la solución\n"
     ]
    }
   ],
   "source": [
    "# busqueda primero en profundidad\n",
    "\n",
    "initial_state = StatesHanoi([5, 4, 3, 2, 1], [], [], max_disks=5)\n",
    "goal_state = StatesHanoi([], [], [5, 4, 3, 2, 1], max_disks=5)\n",
    "problem = ProblemHanoi(initial=initial_state, goal=goal_state)\n",
    "frontier = [NodeHanoi(problem.initial)] # Creamos una cola LIFO con el nodo inicial\n",
    "\n",
    "explored = set() # Este set nos permite ver si ya exploramos un estado para evitar repetir indefinidamente\n",
    "\n",
    "# Mientras que la cola no este vacia\n",
    "while len(frontier) != 0:\n",
    "    node = frontier.pop()  # Extraemos el primer nodo de la cola\n",
    "    \n",
    "    # Agregamos nodo al set. Esto evita guardar duplicados, porque set nunca tiene elementos repetidos\n",
    "    explored.add(node.state)\n",
    "    \n",
    "    if problem.goal_test(node.state):  # Comprobamos si hemos alcanzado el estado objetivo\n",
    "        last_node = node\n",
    "        print(\"Encontramos la solución\")\n",
    "        break\n",
    "    \n",
    "    # Agregamos a la cola todos los nodos sucesores del nodo actual\n",
    "    for next_node in node.expand(problem):\n",
    "        # Solo si no fue explorado\n",
    "        if next_node.state not in explored:\n",
    "            frontier.append(next_node)"
   ]
  },
  {
   "cell_type": "code",
   "execution_count": 9,
   "id": "d8665726-d733-4204-abf7-9ca54f67995e",
   "metadata": {},
   "outputs": [
    {
     "name": "stdout",
     "output_type": "stream",
     "text": [
      "Longitud del camino de la solución: 121.0\n",
      "122 nodos se expandieron y 63 nodos quedaron en la frontera\n"
     ]
    }
   ],
   "source": [
    "print(f'Longitud del camino de la solución: {last_node.state.accumulated_cost}')\n",
    "print(len(explored), \"nodos se expandieron y\", len(frontier), \"nodos quedaron en la frontera\")"
   ]
  },
  {
   "cell_type": "code",
   "execution_count": 10,
   "id": "68c78dfa-f9c3-4bd4-a004-6efcae999188",
   "metadata": {},
   "outputs": [
    {
     "name": "stdout",
     "output_type": "stream",
     "text": [
      "HanoiState:  |  | 5 4 3 2 1\n",
      "HanoiState: 1 |  | 5 4 3 2\n",
      "HanoiState: 1 | 2 | 5 4 3\n",
      "HanoiState:  | 2 | 5 4 3 1\n",
      "HanoiState:  | 2 1 | 5 4 3\n",
      "HanoiState: 3 | 2 1 | 5 4\n",
      "HanoiState: 3 | 2 | 5 4 1\n",
      "HanoiState: 3 1 | 2 | 5 4\n",
      "HanoiState: 3 1 |  | 5 4 2\n",
      "HanoiState: 3 |  | 5 4 2 1\n",
      "HanoiState: 3 | 1 | 5 4 2\n",
      "HanoiState: 3 2 | 1 | 5 4\n",
      "HanoiState: 3 2 |  | 5 4 1\n",
      "HanoiState: 3 2 1 |  | 5 4\n",
      "HanoiState: 3 2 1 | 4 | 5\n",
      "HanoiState: 3 2 | 4 | 5 1\n",
      "HanoiState: 3 2 | 4 1 | 5\n",
      "HanoiState: 3 | 4 1 | 5 2\n",
      "HanoiState: 3 | 4 | 5 2 1\n",
      "HanoiState: 3 1 | 4 | 5 2\n",
      "HanoiState: 3 1 | 4 2 | 5\n",
      "HanoiState: 3 | 4 2 | 5 1\n",
      "HanoiState: 3 | 4 2 1 | 5\n",
      "HanoiState:  | 4 2 1 | 5 3\n",
      "HanoiState:  | 4 2 | 5 3 1\n",
      "HanoiState: 1 | 4 2 | 5 3\n",
      "HanoiState: 1 | 4 | 5 3 2\n",
      "HanoiState:  | 4 | 5 3 2 1\n",
      "HanoiState:  | 4 1 | 5 3 2\n",
      "HanoiState: 2 | 4 1 | 5 3\n",
      "HanoiState: 2 | 4 | 5 3 1\n",
      "HanoiState: 2 1 | 4 | 5 3\n",
      "HanoiState: 2 1 | 4 3 | 5\n",
      "HanoiState: 2 | 4 3 | 5 1\n",
      "HanoiState: 2 | 4 3 1 | 5\n",
      "HanoiState:  | 4 3 1 | 5 2\n",
      "HanoiState:  | 4 3 | 5 2 1\n",
      "HanoiState: 1 | 4 3 | 5 2\n",
      "HanoiState: 1 | 4 3 2 | 5\n",
      "HanoiState:  | 4 3 2 | 5 1\n",
      "HanoiState:  | 4 3 2 1 | 5\n",
      "HanoiState: 5 | 4 3 2 1 | \n",
      "HanoiState: 5 | 4 3 2 | 1\n",
      "HanoiState: 5 1 | 4 3 2 | \n",
      "HanoiState: 5 1 | 4 3 | 2\n",
      "HanoiState: 5 | 4 3 | 2 1\n",
      "HanoiState: 5 | 4 3 1 | 2\n",
      "HanoiState: 5 2 | 4 3 1 | \n",
      "HanoiState: 5 2 | 4 3 | 1\n",
      "HanoiState: 5 2 1 | 4 3 | \n",
      "HanoiState: 5 2 1 | 4 | 3\n",
      "HanoiState: 5 2 | 4 | 3 1\n",
      "HanoiState: 5 2 | 4 1 | 3\n",
      "HanoiState: 5 | 4 1 | 3 2\n",
      "HanoiState: 5 | 4 | 3 2 1\n",
      "HanoiState: 5 1 | 4 | 3 2\n",
      "HanoiState: 5 1 | 4 2 | 3\n",
      "HanoiState: 5 | 4 2 | 3 1\n",
      "HanoiState: 5 | 4 2 1 | 3\n",
      "HanoiState: 5 3 | 4 2 1 | \n",
      "HanoiState: 5 3 | 4 2 | 1\n",
      "HanoiState: 5 3 1 | 4 2 | \n",
      "HanoiState: 5 3 1 | 4 | 2\n",
      "HanoiState: 5 3 | 4 | 2 1\n",
      "HanoiState: 5 3 | 4 1 | 2\n",
      "HanoiState: 5 3 2 | 4 1 | \n",
      "HanoiState: 5 3 2 | 4 | 1\n",
      "HanoiState: 5 3 2 1 | 4 | \n",
      "HanoiState: 5 3 2 1 |  | 4\n",
      "HanoiState: 5 3 2 |  | 4 1\n",
      "HanoiState: 5 3 2 | 1 | 4\n",
      "HanoiState: 5 3 | 1 | 4 2\n",
      "HanoiState: 5 3 |  | 4 2 1\n",
      "HanoiState: 5 3 1 |  | 4 2\n",
      "HanoiState: 5 3 1 | 2 | 4\n",
      "HanoiState: 5 3 | 2 | 4 1\n",
      "HanoiState: 5 3 | 2 1 | 4\n",
      "HanoiState: 5 | 2 1 | 4 3\n",
      "HanoiState: 5 | 2 | 4 3 1\n",
      "HanoiState: 5 1 | 2 | 4 3\n",
      "HanoiState: 5 1 |  | 4 3 2\n",
      "HanoiState: 5 |  | 4 3 2 1\n",
      "HanoiState: 5 | 1 | 4 3 2\n",
      "HanoiState: 5 2 | 1 | 4 3\n",
      "HanoiState: 5 2 |  | 4 3 1\n",
      "HanoiState: 5 2 1 |  | 4 3\n",
      "HanoiState: 5 2 1 | 3 | 4\n",
      "HanoiState: 5 2 | 3 | 4 1\n",
      "HanoiState: 5 2 | 3 1 | 4\n",
      "HanoiState: 5 | 3 1 | 4 2\n",
      "HanoiState: 5 | 3 | 4 2 1\n",
      "HanoiState: 5 1 | 3 | 4 2\n",
      "HanoiState: 5 1 | 3 2 | 4\n",
      "HanoiState: 5 | 3 2 | 4 1\n",
      "HanoiState: 5 | 3 2 1 | 4\n",
      "HanoiState: 5 4 | 3 2 1 | \n",
      "HanoiState: 5 4 | 3 2 | 1\n",
      "HanoiState: 5 4 1 | 3 2 | \n",
      "HanoiState: 5 4 1 | 3 | 2\n",
      "HanoiState: 5 4 | 3 | 2 1\n",
      "HanoiState: 5 4 | 3 1 | 2\n",
      "HanoiState: 5 4 2 | 3 1 | \n",
      "HanoiState: 5 4 2 | 3 | 1\n",
      "HanoiState: 5 4 2 1 | 3 | \n",
      "HanoiState: 5 4 2 1 |  | 3\n",
      "HanoiState: 5 4 2 |  | 3 1\n",
      "HanoiState: 5 4 2 | 1 | 3\n",
      "HanoiState: 5 4 | 1 | 3 2\n",
      "HanoiState: 5 4 |  | 3 2 1\n",
      "HanoiState: 5 4 1 |  | 3 2\n",
      "HanoiState: 5 4 1 | 2 | 3\n",
      "HanoiState: 5 4 | 2 | 3 1\n",
      "HanoiState: 5 4 | 2 1 | 3\n",
      "HanoiState: 5 4 3 | 2 1 | \n",
      "HanoiState: 5 4 3 | 2 | 1\n",
      "HanoiState: 5 4 3 1 | 2 | \n",
      "HanoiState: 5 4 3 1 |  | 2\n",
      "HanoiState: 5 4 3 |  | 2 1\n",
      "HanoiState: 5 4 3 | 1 | 2\n",
      "HanoiState: 5 4 3 2 | 1 | \n",
      "HanoiState: 5 4 3 2 |  | 1\n"
     ]
    }
   ],
   "source": [
    "node = last_node\n",
    "while node.parent is not None:\n",
    "    print(node.state)\n",
    "    node = node.parent"
   ]
  },
  {
   "cell_type": "markdown",
   "id": "acb7c6a0-6f6f-4fa7-a5c1-9cbff5418b94",
   "metadata": {},
   "source": [
    "5. ¿Que complejidad en tiempo y memoria tiene el algoritmo elegido?"
   ]
  },
  {
   "cell_type": "markdown",
   "id": "aabbc434-46a7-4540-907a-f2fd55313f1b",
   "metadata": {},
   "source": [
    "El algoritmo de busqueda por costo uniforme o algoritmo de Dijkstra tiene una complejidad $O(b^{d + 1})$ porque los costos entre los nodos son iguales.\n",
    "\n",
    "El algoritmo de busqueda primero en profundidad tiene una complejidad $O(b^m)$.\n",
    "\n",
    "Donde:\n",
    "- $b$ es el numero promedio de hijos que tiene cada nodo o factor de ramificacion.\n",
    "- $d$ es la profunidad del nodo objetivo, es decir, la cantida de niveles que hay que descender desde el nodo inicial hasta el objetivo.\n",
    "- $m$ es la maxima profundidad del espacio de estados."
   ]
  },
  {
   "cell_type": "markdown",
   "id": "3db4f12f-adf4-4db8-843e-db16e506ce93",
   "metadata": {},
   "source": [
    "6. A nivel implementacion, ¿que tiempo y memoria ocupa el algoritmo? (Se recomienda correr 10 veces y calcular \n",
    "promedio y desvio estandar de las metricas)."
   ]
  },
  {
   "cell_type": "code",
   "execution_count": 11,
   "id": "d4654034-e47f-42e4-b868-ac7316386c72",
   "metadata": {},
   "outputs": [
    {
     "name": "stdout",
     "output_type": "stream",
     "text": [
      "Encontramos la solución\n",
      "Encontramos la solución\n",
      "Encontramos la solución\n",
      "Encontramos la solución\n",
      "Encontramos la solución\n",
      "Encontramos la solución\n",
      "Encontramos la solución\n",
      "Encontramos la solución\n",
      "196 ms ± 8.58 ms per loop (mean ± std. dev. of 7 runs, 1 loop each)\n"
     ]
    }
   ],
   "source": [
    "%%timeit\n",
    "# busqueda en anchura\n",
    "\n",
    "initial_state = StatesHanoi([5, 4, 3, 2, 1], [], [], max_disks=5)\n",
    "goal_state = StatesHanoi([], [], [5, 4, 3, 2, 1], max_disks=5)\n",
    "problem = ProblemHanoi(initial=initial_state, goal=goal_state)\n",
    "frontier = [NodeHanoi(problem.initial)] # Creamos una cola FIFO con el nodo inicial\n",
    "\n",
    "explored = set() # Este set nos permite ver si ya exploramos un estado para evitar repetir indefinidamente\n",
    "\n",
    "# Mientras que la cola no este vacia\n",
    "while len(frontier) != 0:\n",
    "    node = frontier.pop()  # Extraemos el primer nodo de la cola\n",
    "    \n",
    "    # Agregamos nodo al set. Esto evita guardar duplicados, porque set nunca tiene elementos repetidos\n",
    "    explored.add(node.state)\n",
    "    \n",
    "    if problem.goal_test(node.state):  # Comprobamos si hemos alcanzado el estado objetivo\n",
    "        last_node = node\n",
    "        print(\"Encontramos la solución\")\n",
    "        break\n",
    "    \n",
    "    # Agregamos a la cola todos los nodos sucesores del nodo actual\n",
    "    for next_node in node.expand(problem):\n",
    "        # Solo si no fue explorado\n",
    "        if next_node.state not in explored:\n",
    "            frontier.insert(0, next_node)"
   ]
  },
  {
   "cell_type": "code",
   "execution_count": 12,
   "id": "de8f1391-2b06-498f-92ae-73f029e5a305",
   "metadata": {},
   "outputs": [
    {
     "name": "stdout",
     "output_type": "stream",
     "text": [
      "Encontramos la solución\n",
      "Encontramos la solución\n",
      "Encontramos la solución\n",
      "Encontramos la solución\n",
      "Encontramos la solución\n",
      "Encontramos la solución\n",
      "Encontramos la solución\n",
      "Encontramos la solución\n",
      "Encontramos la solución\n",
      "Encontramos la solución\n",
      "Encontramos la solución\n",
      "Encontramos la solución\n",
      "Encontramos la solución\n",
      "Encontramos la solución\n",
      "Encontramos la solución\n",
      "Encontramos la solución\n",
      "Encontramos la solución\n",
      "Encontramos la solución\n",
      "Encontramos la solución\n",
      "Encontramos la solución\n",
      "Encontramos la solución\n",
      "Encontramos la solución\n",
      "Encontramos la solución\n",
      "Encontramos la solución\n",
      "Encontramos la solución\n",
      "Encontramos la solución\n",
      "Encontramos la solución\n",
      "Encontramos la solución\n",
      "Encontramos la solución\n",
      "Encontramos la solución\n",
      "Encontramos la solución\n",
      "Encontramos la solución\n",
      "Encontramos la solución\n",
      "Encontramos la solución\n",
      "Encontramos la solución\n",
      "Encontramos la solución\n",
      "Encontramos la solución\n",
      "Encontramos la solución\n",
      "Encontramos la solución\n",
      "Encontramos la solución\n",
      "Encontramos la solución\n",
      "Encontramos la solución\n",
      "Encontramos la solución\n",
      "Encontramos la solución\n",
      "Encontramos la solución\n",
      "Encontramos la solución\n",
      "Encontramos la solución\n",
      "Encontramos la solución\n",
      "Encontramos la solución\n",
      "Encontramos la solución\n",
      "Encontramos la solución\n",
      "Encontramos la solución\n",
      "Encontramos la solución\n",
      "Encontramos la solución\n",
      "Encontramos la solución\n",
      "Encontramos la solución\n",
      "Encontramos la solución\n",
      "Encontramos la solución\n",
      "Encontramos la solución\n",
      "Encontramos la solución\n",
      "Encontramos la solución\n",
      "Encontramos la solución\n",
      "Encontramos la solución\n",
      "Encontramos la solución\n",
      "Encontramos la solución\n",
      "Encontramos la solución\n",
      "Encontramos la solución\n",
      "Encontramos la solución\n",
      "Encontramos la solución\n",
      "Encontramos la solución\n",
      "Encontramos la solución\n",
      "Encontramos la solución\n",
      "Encontramos la solución\n",
      "Encontramos la solución\n",
      "Encontramos la solución\n",
      "Encontramos la solución\n",
      "Encontramos la solución\n",
      "Encontramos la solución\n",
      "Encontramos la solución\n",
      "Encontramos la solución\n",
      "Encontramos la solución\n",
      "65.2 ms ± 8.1 ms per loop (mean ± std. dev. of 7 runs, 10 loops each)\n"
     ]
    }
   ],
   "source": [
    "%%timeit\n",
    "# busqueda de costo uniforme o algoritmo de Dijkstra\n",
    "\n",
    "initial_state = StatesHanoi([5, 4, 3, 2, 1], [], [], max_disks=5)\n",
    "goal_state = StatesHanoi([], [], [5, 4, 3, 2, 1], max_disks=5)\n",
    "problem = ProblemHanoi(initial=initial_state, goal=goal_state)\n",
    "frontier = frontier = PriorityQueue(order=\"min\", f=lambda node: node.path_cost)  # Creamos una cola prioritaria con el nodo inicial\n",
    "frontier.append(NodeHanoi(problem.initial))\n",
    "\n",
    "explored = set() # Este set nos permite ver si ya exploramos un estado para evitar repetir indefinidamente\n",
    "\n",
    "# Mientras que la cola no este vacia\n",
    "while len(frontier) != 0:\n",
    "    node = frontier.pop()  # Extraemos el primer nodo de la cola\n",
    "    \n",
    "    # Agregamos nodo al set. Esto evita guardar duplicados, porque set nunca tiene elementos repetidos\n",
    "    explored.add(node.state)\n",
    "    \n",
    "    if problem.goal_test(node.state):  # Comprobamos si hemos alcanzado el estado objetivo\n",
    "        last_node = node\n",
    "        print(\"Encontramos la solución\")\n",
    "        break\n",
    "    \n",
    "    # Agregamos a la cola todos los nodos sucesores del nodo actual\n",
    "    for next_node in node.expand(problem):\n",
    "        # Solo si no fue explorado\n",
    "        if next_node.state not in explored:\n",
    "            frontier.append(next_node)"
   ]
  },
  {
   "cell_type": "code",
   "execution_count": 13,
   "id": "9960ab94-27a8-408b-84e1-1d7637a7d993",
   "metadata": {},
   "outputs": [
    {
     "name": "stdout",
     "output_type": "stream",
     "text": [
      "Encontramos la solución\n",
      "Encontramos la solución\n",
      "Encontramos la solución\n",
      "Encontramos la solución\n",
      "Encontramos la solución\n",
      "Encontramos la solución\n",
      "Encontramos la solución\n",
      "Encontramos la solución\n",
      "Encontramos la solución\n",
      "Encontramos la solución\n",
      "Encontramos la solución\n",
      "Encontramos la solución\n",
      "Encontramos la solución\n",
      "Encontramos la solución\n",
      "Encontramos la solución\n",
      "Encontramos la solución\n",
      "Encontramos la solución\n",
      "Encontramos la solución\n",
      "Encontramos la solución\n",
      "Encontramos la solución\n",
      "Encontramos la solución\n",
      "Encontramos la solución\n",
      "Encontramos la solución\n",
      "Encontramos la solución\n",
      "Encontramos la solución\n",
      "Encontramos la solución\n",
      "Encontramos la solución\n",
      "Encontramos la solución\n",
      "Encontramos la solución\n",
      "Encontramos la solución\n",
      "Encontramos la solución\n",
      "Encontramos la solución\n",
      "Encontramos la solución\n",
      "Encontramos la solución\n",
      "Encontramos la solución\n",
      "Encontramos la solución\n",
      "Encontramos la solución\n",
      "Encontramos la solución\n",
      "Encontramos la solución\n",
      "Encontramos la solución\n",
      "Encontramos la solución\n",
      "Encontramos la solución\n",
      "Encontramos la solución\n",
      "Encontramos la solución\n",
      "Encontramos la solución\n",
      "Encontramos la solución\n",
      "Encontramos la solución\n",
      "Encontramos la solución\n",
      "Encontramos la solución\n",
      "Encontramos la solución\n",
      "Encontramos la solución\n",
      "Encontramos la solución\n",
      "Encontramos la solución\n",
      "Encontramos la solución\n",
      "Encontramos la solución\n",
      "Encontramos la solución\n",
      "Encontramos la solución\n",
      "Encontramos la solución\n",
      "Encontramos la solución\n",
      "Encontramos la solución\n",
      "Encontramos la solución\n",
      "Encontramos la solución\n",
      "Encontramos la solución\n",
      "Encontramos la solución\n",
      "Encontramos la solución\n",
      "Encontramos la solución\n",
      "Encontramos la solución\n",
      "Encontramos la solución\n",
      "Encontramos la solución\n",
      "Encontramos la solución\n",
      "Encontramos la solución\n",
      "Encontramos la solución\n",
      "Encontramos la solución\n",
      "Encontramos la solución\n",
      "Encontramos la solución\n",
      "Encontramos la solución\n",
      "Encontramos la solución\n",
      "Encontramos la solución\n",
      "Encontramos la solución\n",
      "Encontramos la solución\n",
      "Encontramos la solución\n",
      "20.8 ms ± 5.24 ms per loop (mean ± std. dev. of 7 runs, 10 loops each)\n"
     ]
    }
   ],
   "source": [
    "%%timeit\n",
    "# busqueda primero en profundidad\n",
    "\n",
    "initial_state = StatesHanoi([5, 4, 3, 2, 1], [], [], max_disks=5)\n",
    "goal_state = StatesHanoi([], [], [5, 4, 3, 2, 1], max_disks=5)\n",
    "problem = ProblemHanoi(initial=initial_state, goal=goal_state)\n",
    "frontier = [NodeHanoi(problem.initial)] # Creamos una cola LIFO con el nodo inicial\n",
    "\n",
    "explored = set() # Este set nos permite ver si ya exploramos un estado para evitar repetir indefinidamente\n",
    "\n",
    "# Mientras que la cola no este vacia\n",
    "while len(frontier) != 0:\n",
    "    node = frontier.pop()  # Extraemos el primer nodo de la cola\n",
    "    \n",
    "    # Agregamos nodo al set. Esto evita guardar duplicados, porque set nunca tiene elementos repetidos\n",
    "    explored.add(node.state)\n",
    "    \n",
    "    if problem.goal_test(node.state):  # Comprobamos si hemos alcanzado el estado objetivo\n",
    "        last_node = node\n",
    "        print(\"Encontramos la solución\")\n",
    "        break\n",
    "    \n",
    "    # Agregamos a la cola todos los nodos sucesores del nodo actual\n",
    "    for next_node in node.expand(problem):\n",
    "        # Solo si no fue explorado\n",
    "        if next_node.state not in explored:\n",
    "            frontier.append(next_node)"
   ]
  },
  {
   "cell_type": "code",
   "execution_count": 14,
   "id": "fd28c759-d22d-41a8-9b4f-fed2c2310e3e",
   "metadata": {},
   "outputs": [],
   "source": [
    "import tracemalloc"
   ]
  },
  {
   "cell_type": "code",
   "execution_count": 15,
   "id": "12cd6fc9-0d80-46b5-8bab-75404953b0ed",
   "metadata": {},
   "outputs": [
    {
     "name": "stdout",
     "output_type": "stream",
     "text": [
      "Encontramos la solución\n",
      "Maxima memoria ocupada: 1.61 [MB]\n"
     ]
    }
   ],
   "source": [
    "# busqueda en anchura\n",
    "\n",
    "# Para medir memoria consumida (usamos el pico de memoria)\n",
    "tracemalloc.start()\n",
    "\n",
    "initial_state = StatesHanoi([5, 4, 3, 2, 1], [], [], max_disks=5)\n",
    "goal_state = StatesHanoi([], [], [5, 4, 3, 2, 1], max_disks=5)\n",
    "problem = ProblemHanoi(initial=initial_state, goal=goal_state)\n",
    "frontier = [NodeHanoi(problem.initial)] # Creamos una cola FIFO con el nodo inicial\n",
    "\n",
    "explored = set() # Este set nos permite ver si ya exploramos un estado para evitar repetir indefinidamente\n",
    "\n",
    "# Mientras que la cola no este vacia\n",
    "while len(frontier) != 0:\n",
    "    node = frontier.pop()  # Extraemos el primer nodo de la cola\n",
    "    \n",
    "    # Agregamos nodo al set. Esto evita guardar duplicados, porque set nunca tiene elementos repetidos\n",
    "    explored.add(node.state)\n",
    "    \n",
    "    if problem.goal_test(node.state):  # Comprobamos si hemos alcanzado el estado objetivo\n",
    "        last_node = node\n",
    "        print(\"Encontramos la solución\")\n",
    "        break\n",
    "    \n",
    "    # Agregamos a la cola todos los nodos sucesores del nodo actual\n",
    "    for next_node in node.expand(problem):\n",
    "        # Solo si no fue explorado\n",
    "        if next_node.state not in explored:\n",
    "            frontier.insert(0, next_node)\n",
    "\n",
    "_, memory_peak = tracemalloc.get_traced_memory()\n",
    "memory_peak /= 1024*1024\n",
    "tracemalloc.stop()\n",
    "\n",
    "print(f\"Maxima memoria ocupada: {round(memory_peak, 2)} [MB]\", )"
   ]
  },
  {
   "cell_type": "code",
   "execution_count": 16,
   "id": "d0424082-ae2a-4a09-b89f-a2a4c7c3c90f",
   "metadata": {},
   "outputs": [
    {
     "name": "stdout",
     "output_type": "stream",
     "text": [
      "Encontramos la solución\n",
      "Maxima memoria ocupada: 0.33 [MB]\n"
     ]
    }
   ],
   "source": [
    "# busqueda de costo uniforme o algoritmo de Dijkstra\n",
    "\n",
    "# Para medir memoria consumida (usamos el pico de memoria)\n",
    "tracemalloc.start()\n",
    "\n",
    "initial_state = StatesHanoi([5, 4, 3, 2, 1], [], [], max_disks=5)\n",
    "goal_state = StatesHanoi([], [], [5, 4, 3, 2, 1], max_disks=5)\n",
    "problem = ProblemHanoi(initial=initial_state, goal=goal_state)\n",
    "frontier = frontier = PriorityQueue(order=\"min\", f=lambda node: node.path_cost)  # Creamos una cola prioritaria con el nodo inicial\n",
    "frontier.append(NodeHanoi(problem.initial))\n",
    "\n",
    "explored = set() # Este set nos permite ver si ya exploramos un estado para evitar repetir indefinidamente\n",
    "\n",
    "# Mientras que la cola no este vacia\n",
    "while len(frontier) != 0:\n",
    "    node = frontier.pop()  # Extraemos el primer nodo de la cola\n",
    "    \n",
    "    # Agregamos nodo al set. Esto evita guardar duplicados, porque set nunca tiene elementos repetidos\n",
    "    explored.add(node.state)\n",
    "    \n",
    "    if problem.goal_test(node.state):  # Comprobamos si hemos alcanzado el estado objetivo\n",
    "        last_node = node\n",
    "        print(\"Encontramos la solución\")\n",
    "        break\n",
    "    \n",
    "    # Agregamos a la cola todos los nodos sucesores del nodo actual\n",
    "    for next_node in node.expand(problem):\n",
    "        # Solo si no fue explorado\n",
    "        if next_node.state not in explored:\n",
    "            frontier.append(next_node)\n",
    "\n",
    "_, memory_peak = tracemalloc.get_traced_memory()\n",
    "memory_peak /= 1024*1024\n",
    "tracemalloc.stop()\n",
    "\n",
    "print(f\"Maxima memoria ocupada: {round(memory_peak, 2)} [MB]\", )"
   ]
  },
  {
   "cell_type": "code",
   "execution_count": 17,
   "id": "586e76a6-1138-4810-8d2f-85a153ed3b9e",
   "metadata": {},
   "outputs": [
    {
     "name": "stdout",
     "output_type": "stream",
     "text": [
      "Encontramos la solución\n",
      "Maxima memoria ocupada: 0.26 [MB]\n"
     ]
    }
   ],
   "source": [
    "# busqueda primero en profundidad\n",
    "\n",
    "# Para medir memoria consumida (usamos el pico de memoria)\n",
    "tracemalloc.start()\n",
    "\n",
    "initial_state = StatesHanoi([5, 4, 3, 2, 1], [], [], max_disks=5)\n",
    "goal_state = StatesHanoi([], [], [5, 4, 3, 2, 1], max_disks=5)\n",
    "problem = ProblemHanoi(initial=initial_state, goal=goal_state)\n",
    "frontier = [NodeHanoi(problem.initial)] # Creamos una cola LIFO con el nodo inicial\n",
    "\n",
    "explored = set() # Este set nos permite ver si ya exploramos un estado para evitar repetir indefinidamente\n",
    "\n",
    "# Mientras que la cola no este vacia\n",
    "while len(frontier) != 0:\n",
    "    node = frontier.pop()  # Extraemos el primer nodo de la cola\n",
    "    \n",
    "    # Agregamos nodo al set. Esto evita guardar duplicados, porque set nunca tiene elementos repetidos\n",
    "    explored.add(node.state)\n",
    "    \n",
    "    if problem.goal_test(node.state):  # Comprobamos si hemos alcanzado el estado objetivo\n",
    "        last_node = node\n",
    "        print(\"Encontramos la solución\")\n",
    "        break\n",
    "    \n",
    "    # Agregamos a la cola todos los nodos sucesores del nodo actual\n",
    "    for next_node in node.expand(problem):\n",
    "        # Solo si no fue explorado\n",
    "        if next_node.state not in explored:\n",
    "            frontier.append(next_node)\n",
    "\n",
    "_, memory_peak = tracemalloc.get_traced_memory()\n",
    "memory_peak /= 1024*1024\n",
    "tracemalloc.stop()\n",
    "\n",
    "print(f\"Maxima memoria ocupada: {round(memory_peak, 2)} [MB]\", )"
   ]
  },
  {
   "cell_type": "markdown",
   "id": "119d02db-6a63-41f2-b7e8-ed4fba3c96b6",
   "metadata": {},
   "source": [
    "7. Si la solucion optima es $2^k - 1$ movimientos con *k* igual al numero de discos. Que tan lejos esta la solucion \n",
    "del algoritmo implementado de esta solucion optima (se recomienda correr al menos 10 veces y usar el promedio de \n",
    "trayecto usado)."
   ]
  },
  {
   "cell_type": "code",
   "execution_count": 18,
   "id": "9d645b46-c292-41f0-85c8-b94d3240904a",
   "metadata": {},
   "outputs": [
    {
     "name": "stdout",
     "output_type": "stream",
     "text": [
      "Solucion optima es 31\n"
     ]
    }
   ],
   "source": [
    "sol_optima = (2 ** 5) - 1\n",
    "print(\"Solucion optima es\", sol_optima)"
   ]
  },
  {
   "cell_type": "markdown",
   "id": "b5789f7c-bb16-462e-b3e0-956df7726682",
   "metadata": {},
   "source": [
    "Entonces, la busqueda en anchura y la busqueda de costo uniforme o algoritmo de Dijkstra encuentran la solucion optima.\n",
    "Pero, la busqueda primero en profundidad no lo hace."
   ]
  },
  {
   "cell_type": "code",
   "execution_count": 19,
   "id": "c585dc43-9cd8-4074-896c-569281b1915d",
   "metadata": {},
   "outputs": [
    {
     "name": "stdout",
     "output_type": "stream",
     "text": [
      "La diferencia con la solucion optima del algoritmo de busqueda de costo uniformo es 90\n"
     ]
    }
   ],
   "source": [
    "print(\"La diferencia con la solucion optima del algoritmo de busqueda de costo uniformo es\", 121 - sol_optima)"
   ]
  },
  {
   "cell_type": "code",
   "execution_count": null,
   "id": "e2422778-2b08-4977-a64a-09d403d9797e",
   "metadata": {},
   "outputs": [],
   "source": []
  }
 ],
 "metadata": {
  "kernelspec": {
   "display_name": "Python 3 (ipykernel)",
   "language": "python",
   "name": "python3"
  },
  "language_info": {
   "codemirror_mode": {
    "name": "ipython",
    "version": 3
   },
   "file_extension": ".py",
   "mimetype": "text/x-python",
   "name": "python",
   "nbconvert_exporter": "python",
   "pygments_lexer": "ipython3",
   "version": "3.10.11"
  }
 },
 "nbformat": 4,
 "nbformat_minor": 5
}
